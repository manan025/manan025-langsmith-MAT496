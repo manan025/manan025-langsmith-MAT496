{
 "cells": [
  {
   "cell_type": "markdown",
   "metadata": {},
   "source": [
    "# Pairwise Experiments"
   ]
  },
  {
   "cell_type": "markdown",
   "metadata": {},
   "source": [
    "### Setup"
   ]
  },
  {
   "cell_type": "code",
   "metadata": {},
   "source": [
    "# You can set them inline\n",
    "import os\n",
    "os.environ[\"OPENAI_API_KEY\"] = \"\"\n",
    "os.environ[\"LANGSMITH_API_KEY\"] = \"\"\n",
    "os.environ[\"LANGSMITH_TRACING\"] = \"true\"\n",
    "os.environ[\"LANGSMITH_PROJECT\"] = \"langsmith-academy\""
   ],
   "outputs": [],
   "execution_count": null
  },
  {
   "cell_type": "code",
   "metadata": {
    "ExecuteTime": {
     "end_time": "2025-10-08T16:27:11.401365Z",
     "start_time": "2025-10-08T16:27:11.390322Z"
    }
   },
   "source": [
    "# Or you can use a .env file\n",
    "from dotenv import load_dotenv\n",
    "load_dotenv()"
   ],
   "outputs": [
    {
     "data": {
      "text/plain": [
       "True"
      ]
     },
     "execution_count": 1,
     "metadata": {},
     "output_type": "execute_result"
    }
   ],
   "execution_count": 1
  },
  {
   "cell_type": "markdown",
   "metadata": {},
   "source": [
    "### Task"
   ]
  },
  {
   "cell_type": "markdown",
   "metadata": {},
   "source": [
    "Let's set up a new task! Here, we have a salesperson named Bob. Bob has a lot of deals, so he wants to summarize what happened in this deals based off of some meeting transcripts.\n",
    "\n",
    "Bob is iterating on a few different prompts, that will give him nice, concise transcripts for his deals.\n",
    "\n",
    "Bob has curated a dataset of his deal transcripts, let's go ahead and load that in. You can take a look at the dataset as well if you're curious! Note that this is not a golden dataset, there is no reference output here."
   ]
  },
  {
   "cell_type": "code",
   "metadata": {
    "ExecuteTime": {
     "end_time": "2025-10-08T16:27:16.575660Z",
     "start_time": "2025-10-08T16:27:13.366055Z"
    }
   },
   "source": [
    "from langsmith import Client\n",
    "\n",
    "client = Client()\n",
    "dataset = client.clone_public_dataset(\n",
    "  \"https://smith.langchain.com/public/9078d2f1-7bef-4ba7-b795-210a17682ef9/d\"\n",
    ")"
   ],
   "outputs": [],
   "execution_count": 2
  },
  {
   "cell_type": "markdown",
   "metadata": {},
   "source": [
    "### Experiments"
   ]
  },
  {
   "cell_type": "markdown",
   "metadata": {},
   "source": [
    "Now, let's run some experiments on this dataset using two different prompts. Let's add an evaluator that tries to score how good our summaries are!"
   ]
  },
  {
   "cell_type": "code",
   "metadata": {
    "ExecuteTime": {
     "end_time": "2025-10-08T16:27:17.711422Z",
     "start_time": "2025-10-08T16:27:17.514741Z"
    }
   },
   "source": [
    "from pydantic import BaseModel, Field\n",
    "# from openai import OpenAI\n",
    "from anthropic import Anthropic\n",
    "import json\n",
    "import re\n",
    "\n",
    "anthropic_client = Anthropic()\n",
    "\n",
    "SUMMARIZATION_SYSTEM_PROMPT = \"\"\"You are a judge, aiming to score how well a summary summarizes the content of a transcript\"\"\"\n",
    "\n",
    "SUMMARIZATION_HUMAN_PROMPT = \"\"\"\n",
    "[The Meeting Transcript] {transcript}\n",
    "[The Start of Summarization] {summary} [The End of Summarization]\"\"\"\n",
    "\n",
    "class SummarizationScore(BaseModel):\n",
    "    score: int = Field(description=\"\"\"A score from 1-5 ranking how good the summarization is for the provided transcript, with 1 being a bad summary, and 5 being a great summary\"\"\")\n",
    "    \n",
    "def summary_score_evaluator(inputs: dict, outputs: dict) -> list:\n",
    "    completion = anthropic_client.messages.create(\n",
    "        model=\"claude-3-5-haiku-latest\",\n",
    "        system=SUMMARIZATION_SYSTEM_PROMPT + \" Return a JSON object with a single field 'score' containing an integer from 1-5.\",\n",
    "        messages=[\n",
    "            {\n",
    "                \"role\": \"user\",\n",
    "                \"content\": SUMMARIZATION_HUMAN_PROMPT.format(\n",
    "                    transcript=inputs[\"transcript\"],\n",
    "                    summary=outputs.get(\"output\", \"N/A\"),\n",
    "                )}\n",
    "        ],\n",
    "        max_tokens=1024,\n",
    "        temperature=0\n",
    "    )\n",
    "\n",
    "    response_text = completion.content[0].text\n",
    "\n",
    "    try:\n",
    "        json_match = re.search(r'{.*?}', response_text, re.DOTALL)\n",
    "        if json_match:\n",
    "            parsed_response = json.loads(json_match.group(0))\n",
    "            if 'score' in parsed_response:\n",
    "                return {\"key\": \"summary_score\", \"score\": parsed_response[\"score\"]}\n",
    "    except:\n",
    "        pass\n",
    "\n",
    "    match = re.search(r'([1-5])', response_text)\n",
    "    if match:\n",
    "        summary_score = int(match.group(1))\n",
    "        return {\"key\": \"summary_score\", \"score\": summary_score}\n",
    "\n",
    "    return {\"key\": \"summary_score\", \"score\": 3}\n"
   ],
   "outputs": [],
   "execution_count": 3
  },
  {
   "cell_type": "markdown",
   "metadata": {},
   "source": [
    "First, we'll run our experiment with a good version of our prompt!"
   ]
  },
  {
   "cell_type": "code",
   "metadata": {
    "ExecuteTime": {
     "end_time": "2025-10-08T16:27:57.400753Z",
     "start_time": "2025-10-08T16:27:20.560835Z"
    }
   },
   "source": [
    "# Prompt One: Good Prompt!\n",
    "def good_summarizer(inputs: dict):\n",
    "    response = anthropic_client.messages.create(\n",
    "        model=\"claude-3-5-haiku-latest\",\n",
    "        messages=[\n",
    "            {\n",
    "                \"role\": \"user\",\n",
    "                \"content\": f\"Concisely summarize this meeting in 3 sentences. Make sure to include all of the important events. Meeting: {inputs['transcript']}\"\n",
    "            }\n",
    "        ],\n",
    "        temperature=0,\n",
    "        max_tokens=1024\n",
    "    )\n",
    "    return response.content[0].text\n",
    "\n",
    "client.evaluate(\n",
    "    good_summarizer,\n",
    "    data=dataset,\n",
    "    evaluators=[summary_score_evaluator],\n",
    "    experiment_prefix=\"Good Summarizer\"\n",
    ")"
   ],
   "outputs": [
    {
     "name": "stderr",
     "output_type": "stream",
     "text": [
      "/Users/manan/PycharmProjects/langsmith-course/.venv/lib/python3.13/site-packages/tqdm/auto.py:21: TqdmWarning: IProgress not found. Please update jupyter and ipywidgets. See https://ipywidgets.readthedocs.io/en/stable/user_install.html\n",
      "  from .autonotebook import tqdm as notebook_tqdm\n"
     ]
    },
    {
     "name": "stdout",
     "output_type": "stream",
     "text": [
      "View the evaluation results for experiment: 'Good Summarizer-ae14e9b6' at:\n",
      "https://smith.langchain.com/o/e37fb4e5-4567-4839-b84a-654be8101cf2/datasets/61704357-5de3-405c-a92d-c4643430c905/compare?selectedSessions=5f5c1b04-2d22-4e94-bc00-1f33f1f9eaee\n",
      "\n",
      "\n"
     ]
    },
    {
     "name": "stderr",
     "output_type": "stream",
     "text": [
      "5it [00:34,  6.97s/it]\n"
     ]
    },
    {
     "data": {
      "text/plain": [
       "<ExperimentResults Good Summarizer-ae14e9b6>"
      ],
      "text/html": [
       "<div>\n",
       "<style scoped>\n",
       "    .dataframe tbody tr th:only-of-type {\n",
       "        vertical-align: middle;\n",
       "    }\n",
       "\n",
       "    .dataframe tbody tr th {\n",
       "        vertical-align: top;\n",
       "    }\n",
       "\n",
       "    .dataframe thead th {\n",
       "        text-align: right;\n",
       "    }\n",
       "</style>\n",
       "<table border=\"1\" class=\"dataframe\">\n",
       "  <thead>\n",
       "    <tr style=\"text-align: right;\">\n",
       "      <th></th>\n",
       "      <th>inputs.transcript</th>\n",
       "      <th>outputs.output</th>\n",
       "      <th>error</th>\n",
       "      <th>feedback.summary_score</th>\n",
       "      <th>execution_time</th>\n",
       "      <th>example_id</th>\n",
       "      <th>id</th>\n",
       "    </tr>\n",
       "  </thead>\n",
       "  <tbody>\n",
       "    <tr>\n",
       "      <th>0</th>\n",
       "      <td>Bob and Ms. Thompson (NO DEAL): Bob: Hi, Ms. T...</td>\n",
       "      <td>Bob, a Ford Motors sales representative, met w...</td>\n",
       "      <td>None</td>\n",
       "      <td>5</td>\n",
       "      <td>2.905655</td>\n",
       "      <td>532c8c81-6d3e-4775-ae11-3890d5d4cfa5</td>\n",
       "      <td>fb28b6f3-2f62-47d7-8ca5-3fc37effff6e</td>\n",
       "    </tr>\n",
       "    <tr>\n",
       "      <th>1</th>\n",
       "      <td>Bob and Ms. Nguyen (NO DEAL): Bob: Good aftern...</td>\n",
       "      <td>Bob met with Ms. Nguyen to discuss potential v...</td>\n",
       "      <td>None</td>\n",
       "      <td>5</td>\n",
       "      <td>2.828761</td>\n",
       "      <td>65c35a35-6361-40e1-b5da-c6c690ae52c2</td>\n",
       "      <td>6c860582-c77c-41d1-93f3-67e988f642d3</td>\n",
       "    </tr>\n",
       "    <tr>\n",
       "      <th>2</th>\n",
       "      <td>Bob and Mr. Carter (CLOSED DEAL): Bob: Welcome...</td>\n",
       "      <td>Bob met with Mr. Carter to discuss trading in ...</td>\n",
       "      <td>None</td>\n",
       "      <td>5</td>\n",
       "      <td>2.856053</td>\n",
       "      <td>c4874cc6-737f-4550-a3de-50addaba733b</td>\n",
       "      <td>98aeed7e-6682-46a8-9f3c-9190b7b33cbc</td>\n",
       "    </tr>\n",
       "    <tr>\n",
       "      <th>3</th>\n",
       "      <td>Bob and Mr. Patel (CLOSED DEAL): Bob: Hello, M...</td>\n",
       "      <td>Bob successfully helped Mr. Patel find a Ford ...</td>\n",
       "      <td>None</td>\n",
       "      <td>5</td>\n",
       "      <td>2.454100</td>\n",
       "      <td>cafc24bd-d1e5-41d5-b334-f2e0fd9e6872</td>\n",
       "      <td>ef7aa568-92f6-4526-b2d0-8421bb5f30c4</td>\n",
       "    </tr>\n",
       "    <tr>\n",
       "      <th>4</th>\n",
       "      <td>Bob and Mr. Johnson (CLOSED DEAL): Bob: Good m...</td>\n",
       "      <td>Bob introduced Mr. Johnson to the Ford Explore...</td>\n",
       "      <td>None</td>\n",
       "      <td>5</td>\n",
       "      <td>2.137282</td>\n",
       "      <td>e8c7eddc-bf4b-40af-84b8-916c7bbd965c</td>\n",
       "      <td>cb5b7448-091a-4228-b76f-3c0cdc7fdbc1</td>\n",
       "    </tr>\n",
       "  </tbody>\n",
       "</table>\n",
       "</div>"
      ]
     },
     "execution_count": 4,
     "metadata": {},
     "output_type": "execute_result"
    }
   ],
   "execution_count": 4
  },
  {
   "cell_type": "markdown",
   "metadata": {},
   "source": [
    "Now, we'll run an experiment with a worse version of our prompt, to highlight the difference."
   ]
  },
  {
   "cell_type": "code",
   "metadata": {
    "ExecuteTime": {
     "end_time": "2025-10-08T16:28:26.450186Z",
     "start_time": "2025-10-08T16:27:57.428727Z"
    }
   },
   "source": [
    "# Prompt Two: Worse Prompt!\n",
    "def bad_summarizer(inputs: dict):\n",
    "    response = anthropic_client.messages.create(\n",
    "        model=\"claude-3-5-haiku-latest\",\n",
    "        messages=[\n",
    "            {\n",
    "                \"role\": \"user\",\n",
    "                \"content\": f\"Summarize this in one sentence. {inputs['transcript']}\"\n",
    "            }\n",
    "        ],\n",
    "        temperature=0,\n",
    "        max_tokens=1024\n",
    "    )\n",
    "    return response.content[0].text\n",
    "\n",
    "client.evaluate(\n",
    "    bad_summarizer,\n",
    "    data=dataset,\n",
    "    evaluators=[summary_score_evaluator],\n",
    "    experiment_prefix=\"Bad Summarizer\"\n",
    ")"
   ],
   "outputs": [
    {
     "name": "stdout",
     "output_type": "stream",
     "text": [
      "View the evaluation results for experiment: 'Bad Summarizer-293ca6c1' at:\n",
      "https://smith.langchain.com/o/e37fb4e5-4567-4839-b84a-654be8101cf2/datasets/61704357-5de3-405c-a92d-c4643430c905/compare?selectedSessions=d0ab8e3f-1da0-4c91-b4e8-c1800cf7882a\n",
      "\n",
      "\n"
     ]
    },
    {
     "name": "stderr",
     "output_type": "stream",
     "text": [
      "5it [00:27,  5.54s/it]\n"
     ]
    },
    {
     "data": {
      "text/plain": [
       "<ExperimentResults Bad Summarizer-293ca6c1>"
      ],
      "text/html": [
       "<div>\n",
       "<style scoped>\n",
       "    .dataframe tbody tr th:only-of-type {\n",
       "        vertical-align: middle;\n",
       "    }\n",
       "\n",
       "    .dataframe tbody tr th {\n",
       "        vertical-align: top;\n",
       "    }\n",
       "\n",
       "    .dataframe thead th {\n",
       "        text-align: right;\n",
       "    }\n",
       "</style>\n",
       "<table border=\"1\" class=\"dataframe\">\n",
       "  <thead>\n",
       "    <tr style=\"text-align: right;\">\n",
       "      <th></th>\n",
       "      <th>inputs.transcript</th>\n",
       "      <th>outputs.output</th>\n",
       "      <th>error</th>\n",
       "      <th>feedback.summary_score</th>\n",
       "      <th>execution_time</th>\n",
       "      <th>example_id</th>\n",
       "      <th>id</th>\n",
       "    </tr>\n",
       "  </thead>\n",
       "  <tbody>\n",
       "    <tr>\n",
       "      <th>0</th>\n",
       "      <td>Bob and Ms. Thompson (NO DEAL): Bob: Hi, Ms. T...</td>\n",
       "      <td>Bob, a Ford Motors salesperson, engages Ms. Th...</td>\n",
       "      <td>None</td>\n",
       "      <td>5</td>\n",
       "      <td>2.244849</td>\n",
       "      <td>532c8c81-6d3e-4775-ae11-3890d5d4cfa5</td>\n",
       "      <td>c14b9de0-ec3b-4154-96a0-1979760b2fe7</td>\n",
       "    </tr>\n",
       "    <tr>\n",
       "      <th>1</th>\n",
       "      <td>Bob and Ms. Nguyen (NO DEAL): Bob: Good aftern...</td>\n",
       "      <td>Bob tries to sell Ms. Nguyen a Ford vehicle, b...</td>\n",
       "      <td>None</td>\n",
       "      <td>4</td>\n",
       "      <td>1.598144</td>\n",
       "      <td>65c35a35-6361-40e1-b5da-c6c690ae52c2</td>\n",
       "      <td>90847e3b-33a8-4ed4-85e8-30091647a041</td>\n",
       "    </tr>\n",
       "    <tr>\n",
       "      <th>2</th>\n",
       "      <td>Bob and Mr. Carter (CLOSED DEAL): Bob: Welcome...</td>\n",
       "      <td>Bob helps Mr. Carter trade in his 2015 Tacoma ...</td>\n",
       "      <td>None</td>\n",
       "      <td>5</td>\n",
       "      <td>1.599474</td>\n",
       "      <td>c4874cc6-737f-4550-a3de-50addaba733b</td>\n",
       "      <td>c77f7cd6-a298-4e80-b882-e9b56b17790f</td>\n",
       "    </tr>\n",
       "    <tr>\n",
       "      <th>3</th>\n",
       "      <td>Bob and Mr. Patel (CLOSED DEAL): Bob: Hello, M...</td>\n",
       "      <td>Bob successfully helps Mr. Patel find and purc...</td>\n",
       "      <td>None</td>\n",
       "      <td>5</td>\n",
       "      <td>1.987214</td>\n",
       "      <td>cafc24bd-d1e5-41d5-b334-f2e0fd9e6872</td>\n",
       "      <td>c146ebe5-f444-4a4a-b539-c7b8c3f4f178</td>\n",
       "    </tr>\n",
       "    <tr>\n",
       "      <th>4</th>\n",
       "      <td>Bob and Mr. Johnson (CLOSED DEAL): Bob: Good m...</td>\n",
       "      <td>Bob successfully helps Mr. Johnson find and pu...</td>\n",
       "      <td>None</td>\n",
       "      <td>5</td>\n",
       "      <td>1.732207</td>\n",
       "      <td>e8c7eddc-bf4b-40af-84b8-916c7bbd965c</td>\n",
       "      <td>801c9d88-5866-4067-ac4f-d263c26e30ce</td>\n",
       "    </tr>\n",
       "  </tbody>\n",
       "</table>\n",
       "</div>"
      ]
     },
     "execution_count": 5,
     "metadata": {},
     "output_type": "execute_result"
    }
   ],
   "execution_count": 5
  },
  {
   "cell_type": "markdown",
   "metadata": {},
   "source": [
    "### Pairwise Experiment"
   ]
  },
  {
   "cell_type": "markdown",
   "metadata": {},
   "source": [
    "Let's define a function that will compare our two experiments. These are the fields that pairwise evaluator functions get access to:\n",
    "- `inputs: dict`: A dictionary of the inputs corresponding to a single example in a dataset.\n",
    "- `outputs: list[dict]`: A list of the dict outputs produced by each experiment on the given inputs.\n",
    "- `reference_outputs: dict`: A dictionary of the reference outputs associated with the example, if available.\n",
    "- `runs: list[Run]`: A list of the full Run objects generated by the experiments on the given example. Use this if you need access to intermediate steps or metadata about each run.\n",
    "- `example: Example`: The full dataset Example, including the example inputs, outputs (if available), and metdata (if available)."
   ]
  },
  {
   "cell_type": "markdown",
   "metadata": {},
   "source": [
    "First, let's give our LLM-as-Judge some instructions. In our case, we're just going to directly use LLM-as-judge to grade which of the summarizers is the most helpful.\n",
    "\n",
    "It might be hard to grade our summarizers without a ground truth reference, but here, comparing different prompts head to head will give us a sense of which is better!"
   ]
  },
  {
   "cell_type": "code",
   "metadata": {
    "ExecuteTime": {
     "end_time": "2025-10-08T16:47:27.292354Z",
     "start_time": "2025-10-08T16:47:27.285406Z"
    }
   },
   "source": [
    "JUDGE_SYSTEM_PROMPT = \"\"\"\n",
    "Please act as an impartial judge and evaluate the quality of the summarizations provided by two AI summarizers to the meeting transcript below.\n",
    "Your evaluation should consider factors such as the helpfulness, relevance, accuracy, depth, creativity, and level of detail of their summarizations. \n",
    "Begin your evaluation by comparing the two summarizations and provide a short explanation. \n",
    "Avoid any position biases and ensure that the order in which the responses were presented does not influence your decision. \n",
    "Do not favor certain names of the assistants. \n",
    "Be as objective as possible. \"\"\"\n",
    "\n",
    "JUDGE_HUMAN_PROMPT = \"\"\"\n",
    "[The Meeting Transcript] {transcript}\n",
    "\n",
    "[The Start of Assistant A's Summarization] {answer_a} [The End of Assistant A's Summarization]\n",
    "\n",
    "[The Start of Assistant B's Summarization] {answer_b} [The End of Assistant B's Summarization]\"\"\""
   ],
   "outputs": [],
   "execution_count": 6
  },
  {
   "cell_type": "markdown",
   "metadata": {},
   "source": [
    "Our function will take in an `inputs` dictionary, and a list of `outputs` dictionaries for the different experiments that we want to compare."
   ]
  },
  {
   "cell_type": "code",
   "metadata": {
    "ExecuteTime": {
     "end_time": "2025-10-08T16:48:51.085965Z",
     "start_time": "2025-10-08T16:48:51.070819Z"
    }
   },
   "source": [
    "from pydantic import BaseModel, Field\n",
    "\n",
    "class Preference(BaseModel):\n",
    "    preference: int = Field(description=\"\"\"1 if Assistant A answer is better based upon the factors above.\n",
    "2 if Assistant B answer is better based upon the factors above.\n",
    "Output 0 if it is a tie.\"\"\")\n",
    "    \n",
    "def ranked_preference(inputs: dict, outputs: list[dict]) -> list:\n",
    "    completion = anthropic_client.messages.create(\n",
    "        model=\"claude-3-5-haiku-latest\",\n",
    "        system=JUDGE_SYSTEM_PROMPT + \" Return a JSON object with a single field 'preference' containing an integer: 1 if Assistant A is better, 2 if Assistant B is better, or 0 if it's a tie.\",\n",
    "        messages=[\n",
    "            {\n",
    "                \"role\": \"user\",\n",
    "                \"content\": JUDGE_HUMAN_PROMPT.format(\n",
    "                    transcript=inputs[\"transcript\"],\n",
    "                    answer_a=outputs[0].get(\"output\", \"N/A\"),\n",
    "                    answer_b=outputs[1].get(\"output\", \"N/A\")\n",
    "                )\n",
    "            }\n",
    "        ],\n",
    "        max_tokens=1024,\n",
    "        temperature=0\n",
    "    )\n",
    "\n",
    "    response_text = completion.content[0].text\n",
    "\n",
    "    try:\n",
    "        json_match = re.search(r'{.*?}', response_text, re.DOTALL)\n",
    "        if json_match:\n",
    "            parsed_response = json.loads(json_match.group(0))\n",
    "            if 'preference' in parsed_response:\n",
    "                preference_score = parsed_response[\"preference\"]\n",
    "            else:\n",
    "                match = re.search(r'([0-2])', response_text)\n",
    "                preference_score = int(match.group(1)) if match else 0\n",
    "        else:\n",
    "            match = re.search(r'([0-2])', response_text)\n",
    "            preference_score = int(match.group(1)) if match else 0\n",
    "    except:\n",
    "        match = re.search(r'([0-2])', response_text)\n",
    "        preference_score = int(match.group(1)) if match else 0\n",
    "\n",
    "    if preference_score == 1:\n",
    "        scores = [1, 0]\n",
    "    elif preference_score == 2:\n",
    "        scores = [0, 1]\n",
    "    else:\n",
    "        scores = [0, 0]\n",
    "    return scores\n"
   ],
   "outputs": [],
   "execution_count": 7
  },
  {
   "cell_type": "markdown",
   "metadata": {},
   "source": [
    "Now let's run our pairwise experiment with `evaluate()`"
   ]
  },
  {
   "cell_type": "code",
   "metadata": {
    "ExecuteTime": {
     "end_time": "2025-10-08T16:50:59.317301Z",
     "start_time": "2025-10-08T16:50:21.005606Z"
    }
   },
   "source": [
    "from langsmith import evaluate\n",
    "\n",
    "evaluate(\n",
    "    (\"Good Summarizer-ae14e9b6\", \"Bad Summarizer-293ca6c1\"),\n",
    "    evaluators=[ranked_preference]\n",
    ")"
   ],
   "outputs": [
    {
     "name": "stdout",
     "output_type": "stream",
     "text": [
      "View the pairwise evaluation results at:\n",
      "https://smith.langchain.com/o/e37fb4e5-4567-4839-b84a-654be8101cf2/datasets/61704357-5de3-405c-a92d-c4643430c905/compare?selectedSessions=5f5c1b04-2d22-4e94-bc00-1f33f1f9eaee%2Cd0ab8e3f-1da0-4c91-b4e8-c1800cf7882a&comparativeExperiment=53bc2af2-00f6-4bdf-84c0-b998ff7bfbd6\n",
      "\n",
      "\n"
     ]
    },
    {
     "name": "stderr",
     "output_type": "stream",
     "text": [
      "100%|██████████| 5/5 [00:28<00:00,  5.66s/it]\n"
     ]
    },
    {
     "data": {
      "text/plain": [
       "<langsmith.evaluation._runner.ComparativeExperimentResults at 0x110125be0>"
      ]
     },
     "execution_count": 8,
     "metadata": {},
     "output_type": "execute_result"
    }
   ],
   "execution_count": 8
  },
  {
   "metadata": {},
   "cell_type": "code",
   "outputs": [],
   "execution_count": null,
   "source": ""
  }
 ],
 "metadata": {
  "kernelspec": {
   "display_name": "ls-academy",
   "language": "python",
   "name": "python3"
  },
  "language_info": {
   "codemirror_mode": {
    "name": "ipython",
    "version": 3
   },
   "file_extension": ".py",
   "mimetype": "text/x-python",
   "name": "python",
   "nbconvert_exporter": "python",
   "pygments_lexer": "ipython3",
   "version": "3.9.6"
  }
 },
 "nbformat": 4,
 "nbformat_minor": 4
}
