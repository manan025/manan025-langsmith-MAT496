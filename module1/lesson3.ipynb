{
 "cells": [
  {
   "cell_type": "markdown",
   "metadata": {},
   "source": [
    "# Alternative Tracing Methods"
   ]
  },
  {
   "cell_type": "markdown",
   "metadata": {},
   "source": [
    "So far in this module, we've taken a look at the traceable decorator, and how we can use it to set up tracing.\n",
    "\n",
    "In this lesson, we're going to look at alternative ways in which we can set up tracing, and when you should think about using these different approaches."
   ]
  },
  {
   "cell_type": "markdown",
   "metadata": {},
   "source": [
    "## LangChain and LangGraph"
   ]
  },
  {
   "cell_type": "markdown",
   "metadata": {},
   "source": [
    "If we are using LangChain or LangGraph, all we need to do to set up tracing is to set a few environment variables"
   ]
  },
  {
   "cell_type": "code",
   "metadata": {
    "ExecuteTime": {
     "end_time": "2025-10-07T22:02:21.818664Z",
     "start_time": "2025-10-07T22:02:21.810354Z"
    }
   },
   "source": [
    "# Or you can use a .env file\n",
    "from dotenv import load_dotenv\n",
    "load_dotenv()"
   ],
   "outputs": [
    {
     "data": {
      "text/plain": [
       "True"
      ]
     },
     "execution_count": 1,
     "metadata": {},
     "output_type": "execute_result"
    }
   ],
   "execution_count": 1
  },
  {
   "cell_type": "markdown",
   "metadata": {},
   "source": [
    "Don't worry too much about our graph implementation here, you can learn more about LangGraph through our LangGraph Academy course!"
   ]
  },
  {
   "cell_type": "code",
   "metadata": {
    "ExecuteTime": {
     "end_time": "2025-10-07T22:07:24.424195Z",
     "start_time": "2025-10-07T22:02:22.476334Z"
    }
   },
   "source": [
    "import nest_asyncio\n",
    "import operator\n",
    "from langchain.schema import Document\n",
    "from langchain_core.messages import HumanMessage, AnyMessage, get_buffer_string\n",
    "from langchain_openai import ChatOpenAI\n",
    "from langchain_anthropic import ChatAnthropic\n",
    "from langgraph.graph import StateGraph, START, END\n",
    "from IPython.display import Image, display\n",
    "from typing import List\n",
    "from typing_extensions import TypedDict, Annotated\n",
    "from utils import get_vector_db_retriever, RAG_PROMPT\n",
    "\n",
    "nest_asyncio.apply()\n",
    "\n",
    "retriever = get_vector_db_retriever()\n",
    "llm = ChatAnthropic(model_name=\"claude-3-5-haiku-latest\", temperature=0)\n",
    "\n",
    "# Define Graph state\n",
    "class GraphState(TypedDict):\n",
    "    question: str\n",
    "    messages: Annotated[List[AnyMessage], operator.add]\n",
    "    documents: List[Document]\n",
    "    prev_activities: str\n",
    "\n",
    "# Define Nodes\n",
    "def retrieve_documents(state: GraphState):\n",
    "    messages = state.get(\"messages\", [])\n",
    "    question = state[\"question\"]\n",
    "    prev_activities = state[\"prev_activities\"]\n",
    "    documents = retriever.invoke(f\"{get_buffer_string(messages)} {question} {prev_activities}\")\n",
    "    return {\"documents\": documents}\n",
    "\n",
    "def generate_response(state: GraphState):\n",
    "    question = state[\"question\"]\n",
    "    prev_activities = state[\"prev_activities\"]\n",
    "    messages = state[\"messages\"]\n",
    "    documents = state[\"documents\"]\n",
    "    formatted_docs = \"\\n\\n\".join(doc.page_content for doc in documents)\n",
    "    \n",
    "    rag_prompt_formatted = RAG_PROMPT.format(context=formatted_docs, interests=question, prev_activities=prev_activities)\n",
    "    generation = llm.invoke([HumanMessage(content=rag_prompt_formatted)])\n",
    "    return {\"documents\": documents, \"messages\": [HumanMessage(question), generation]}\n",
    "\n",
    "# Define Graph\n",
    "graph_builder = StateGraph(GraphState)\n",
    "graph_builder.add_node(\"retrieve_documents\", retrieve_documents)\n",
    "graph_builder.add_node(\"generate_response\", generate_response)\n",
    "graph_builder.add_edge(START, \"retrieve_documents\")\n",
    "graph_builder.add_edge(\"retrieve_documents\", \"generate_response\")\n",
    "graph_builder.add_edge(\"generate_response\", END)\n",
    "\n",
    "simple_rag_graph = graph_builder.compile()\n",
    "display(Image(simple_rag_graph.get_graph().draw_mermaid_png()))"
   ],
   "outputs": [
    {
     "name": "stderr",
     "output_type": "stream",
     "text": [
      "/Users/manan/PycharmProjects/langsmith-course/.venv/lib/python3.13/site-packages/tqdm/auto.py:21: TqdmWarning: IProgress not found. Please update jupyter and ipywidgets. See https://ipywidgets.readthedocs.io/en/stable/user_install.html\n",
      "  from .autonotebook import tqdm as notebook_tqdm\n",
      "USER_AGENT environment variable not set, consider setting it to identify your requests.\n",
      "'(MaxRetryError('HTTPSConnectionPool(host=\\'huggingface.co\\', port=443): Max retries exceeded with url: /sentence-transformers/all-MiniLM-l6-v2/resolve/main/modules.json (Caused by NameResolutionError(\"<urllib3.connection.HTTPSConnection object at 0x12964aa50>: Failed to resolve \\'huggingface.co\\' ([Errno 8] nodename nor servname provided, or not known)\"))'), '(Request ID: 67241b26-34b0-4d6b-b0a7-64ce0d05d941)')' thrown while requesting HEAD https://huggingface.co/sentence-transformers/all-MiniLM-l6-v2/resolve/main/./modules.json\n",
      "Retrying in 1s [Retry 1/5].\n",
      "'(MaxRetryError('HTTPSConnectionPool(host=\\'huggingface.co\\', port=443): Max retries exceeded with url: /sentence-transformers/all-MiniLM-l6-v2/resolve/main/modules.json (Caused by NameResolutionError(\"<urllib3.connection.HTTPSConnection object at 0x129774f50>: Failed to resolve \\'huggingface.co\\' ([Errno 8] nodename nor servname provided, or not known)\"))'), '(Request ID: bc7cd496-1e7c-40c3-ac9c-d68fc7f16bcd)')' thrown while requesting HEAD https://huggingface.co/sentence-transformers/all-MiniLM-l6-v2/resolve/main/./modules.json\n",
      "Retrying in 2s [Retry 2/5].\n",
      "'(MaxRetryError('HTTPSConnectionPool(host=\\'huggingface.co\\', port=443): Max retries exceeded with url: /sentence-transformers/all-MiniLM-l6-v2/resolve/main/modules.json (Caused by NameResolutionError(\"<urllib3.connection.HTTPSConnection object at 0x129775590>: Failed to resolve \\'huggingface.co\\' ([Errno 8] nodename nor servname provided, or not known)\"))'), '(Request ID: ce132daa-2ed2-4dfd-87ff-6deeaf7b930a)')' thrown while requesting HEAD https://huggingface.co/sentence-transformers/all-MiniLM-l6-v2/resolve/main/./modules.json\n",
      "Retrying in 4s [Retry 3/5].\n",
      "'(MaxRetryError('HTTPSConnectionPool(host=\\'huggingface.co\\', port=443): Max retries exceeded with url: /sentence-transformers/all-MiniLM-l6-v2/resolve/main/modules.json (Caused by NameResolutionError(\"<urllib3.connection.HTTPSConnection object at 0x129775950>: Failed to resolve \\'huggingface.co\\' ([Errno 8] nodename nor servname provided, or not known)\"))'), '(Request ID: 1c227c41-693e-4240-b30a-29c5d2560d29)')' thrown while requesting HEAD https://huggingface.co/sentence-transformers/all-MiniLM-l6-v2/resolve/main/./modules.json\n",
      "Retrying in 8s [Retry 4/5].\n",
      "'(MaxRetryError('HTTPSConnectionPool(host=\\'huggingface.co\\', port=443): Max retries exceeded with url: /sentence-transformers/all-MiniLM-l6-v2/resolve/main/modules.json (Caused by NameResolutionError(\"<urllib3.connection.HTTPSConnection object at 0x129775e50>: Failed to resolve \\'huggingface.co\\' ([Errno 8] nodename nor servname provided, or not known)\"))'), '(Request ID: a6988892-161b-4514-94fc-20be8075ea2e)')' thrown while requesting HEAD https://huggingface.co/sentence-transformers/all-MiniLM-l6-v2/resolve/main/./modules.json\n",
      "Retrying in 8s [Retry 5/5].\n",
      "'(MaxRetryError('HTTPSConnectionPool(host=\\'huggingface.co\\', port=443): Max retries exceeded with url: /sentence-transformers/all-MiniLM-l6-v2/resolve/main/modules.json (Caused by NameResolutionError(\"<urllib3.connection.HTTPSConnection object at 0x129776210>: Failed to resolve \\'huggingface.co\\' ([Errno 8] nodename nor servname provided, or not known)\"))'), '(Request ID: 72ee57b9-2e23-45b3-b377-05742076d07e)')' thrown while requesting HEAD https://huggingface.co/sentence-transformers/all-MiniLM-l6-v2/resolve/main/./modules.json\n",
      "'(MaxRetryError('HTTPSConnectionPool(host=\\'huggingface.co\\', port=443): Max retries exceeded with url: /sentence-transformers/all-MiniLM-l6-v2/resolve/main/config_sentence_transformers.json (Caused by NameResolutionError(\"<urllib3.connection.HTTPSConnection object at 0x129776ad0>: Failed to resolve \\'huggingface.co\\' ([Errno 8] nodename nor servname provided, or not known)\"))'), '(Request ID: 9bce9980-9541-411f-8a11-923d05e5bcf2)')' thrown while requesting HEAD https://huggingface.co/sentence-transformers/all-MiniLM-l6-v2/resolve/main/./config_sentence_transformers.json\n",
      "Retrying in 1s [Retry 1/5].\n",
      "'(MaxRetryError('HTTPSConnectionPool(host=\\'huggingface.co\\', port=443): Max retries exceeded with url: /sentence-transformers/all-MiniLM-l6-v2/resolve/main/config_sentence_transformers.json (Caused by NameResolutionError(\"<urllib3.connection.HTTPSConnection object at 0x129776e90>: Failed to resolve \\'huggingface.co\\' ([Errno 8] nodename nor servname provided, or not known)\"))'), '(Request ID: 959fa245-0f1c-489b-9e85-0a744428c651)')' thrown while requesting HEAD https://huggingface.co/sentence-transformers/all-MiniLM-l6-v2/resolve/main/./config_sentence_transformers.json\n",
      "Retrying in 2s [Retry 2/5].\n",
      "'(MaxRetryError('HTTPSConnectionPool(host=\\'huggingface.co\\', port=443): Max retries exceeded with url: /sentence-transformers/all-MiniLM-l6-v2/resolve/main/config_sentence_transformers.json (Caused by NameResolutionError(\"<urllib3.connection.HTTPSConnection object at 0x129775d10>: Failed to resolve \\'huggingface.co\\' ([Errno 8] nodename nor servname provided, or not known)\"))'), '(Request ID: a88f0bbc-ec5a-4e5c-a502-31f377b83609)')' thrown while requesting HEAD https://huggingface.co/sentence-transformers/all-MiniLM-l6-v2/resolve/main/./config_sentence_transformers.json\n",
      "Retrying in 4s [Retry 3/5].\n",
      "'(MaxRetryError('HTTPSConnectionPool(host=\\'huggingface.co\\', port=443): Max retries exceeded with url: /sentence-transformers/all-MiniLM-l6-v2/resolve/main/config_sentence_transformers.json (Caused by NameResolutionError(\"<urllib3.connection.HTTPSConnection object at 0x129777610>: Failed to resolve \\'huggingface.co\\' ([Errno 8] nodename nor servname provided, or not known)\"))'), '(Request ID: 2419f8c9-3dad-4790-a4a8-04ce6b7d3307)')' thrown while requesting HEAD https://huggingface.co/sentence-transformers/all-MiniLM-l6-v2/resolve/main/./config_sentence_transformers.json\n",
      "Retrying in 8s [Retry 4/5].\n",
      "'(MaxRetryError('HTTPSConnectionPool(host=\\'huggingface.co\\', port=443): Max retries exceeded with url: /sentence-transformers/all-MiniLM-l6-v2/resolve/main/config_sentence_transformers.json (Caused by NameResolutionError(\"<urllib3.connection.HTTPSConnection object at 0x129777250>: Failed to resolve \\'huggingface.co\\' ([Errno 8] nodename nor servname provided, or not known)\"))'), '(Request ID: 26fa6300-c7ec-4596-a39a-65432b801fa3)')' thrown while requesting HEAD https://huggingface.co/sentence-transformers/all-MiniLM-l6-v2/resolve/main/./config_sentence_transformers.json\n",
      "Retrying in 8s [Retry 5/5].\n",
      "'(MaxRetryError('HTTPSConnectionPool(host=\\'huggingface.co\\', port=443): Max retries exceeded with url: /sentence-transformers/all-MiniLM-l6-v2/resolve/main/config_sentence_transformers.json (Caused by NameResolutionError(\"<urllib3.connection.HTTPSConnection object at 0x129777c50>: Failed to resolve \\'huggingface.co\\' ([Errno 8] nodename nor servname provided, or not known)\"))'), '(Request ID: b5354adf-9c1e-4c15-ace4-3da35820f66d)')' thrown while requesting HEAD https://huggingface.co/sentence-transformers/all-MiniLM-l6-v2/resolve/main/./config_sentence_transformers.json\n",
      "'(MaxRetryError('HTTPSConnectionPool(host=\\'huggingface.co\\', port=443): Max retries exceeded with url: /sentence-transformers/all-MiniLM-l6-v2/resolve/main/config_sentence_transformers.json (Caused by NameResolutionError(\"<urllib3.connection.HTTPSConnection object at 0x1297bc410>: Failed to resolve \\'huggingface.co\\' ([Errno 8] nodename nor servname provided, or not known)\"))'), '(Request ID: bf6454f0-5880-40f3-8ba8-980875a7fbdd)')' thrown while requesting HEAD https://huggingface.co/sentence-transformers/all-MiniLM-l6-v2/resolve/main/./config_sentence_transformers.json\n",
      "Retrying in 1s [Retry 1/5].\n",
      "'(MaxRetryError('HTTPSConnectionPool(host=\\'huggingface.co\\', port=443): Max retries exceeded with url: /sentence-transformers/all-MiniLM-l6-v2/resolve/main/config_sentence_transformers.json (Caused by NameResolutionError(\"<urllib3.connection.HTTPSConnection object at 0x1297765d0>: Failed to resolve \\'huggingface.co\\' ([Errno 8] nodename nor servname provided, or not known)\"))'), '(Request ID: dc11d027-58c5-4ba6-beb2-3abd4980c924)')' thrown while requesting HEAD https://huggingface.co/sentence-transformers/all-MiniLM-l6-v2/resolve/main/./config_sentence_transformers.json\n",
      "Retrying in 2s [Retry 2/5].\n",
      "'(MaxRetryError('HTTPSConnectionPool(host=\\'huggingface.co\\', port=443): Max retries exceeded with url: /sentence-transformers/all-MiniLM-l6-v2/resolve/main/config_sentence_transformers.json (Caused by NameResolutionError(\"<urllib3.connection.HTTPSConnection object at 0x129777c50>: Failed to resolve \\'huggingface.co\\' ([Errno 8] nodename nor servname provided, or not known)\"))'), '(Request ID: 338e1e5f-8238-494a-b327-dd5c841156a4)')' thrown while requesting HEAD https://huggingface.co/sentence-transformers/all-MiniLM-l6-v2/resolve/main/./config_sentence_transformers.json\n",
      "Retrying in 4s [Retry 3/5].\n",
      "'(MaxRetryError('HTTPSConnectionPool(host=\\'huggingface.co\\', port=443): Max retries exceeded with url: /sentence-transformers/all-MiniLM-l6-v2/resolve/main/config_sentence_transformers.json (Caused by NameResolutionError(\"<urllib3.connection.HTTPSConnection object at 0x129777250>: Failed to resolve \\'huggingface.co\\' ([Errno 8] nodename nor servname provided, or not known)\"))'), '(Request ID: d1653a5e-77c2-4872-8b54-bd1aa7da3511)')' thrown while requesting HEAD https://huggingface.co/sentence-transformers/all-MiniLM-l6-v2/resolve/main/./config_sentence_transformers.json\n",
      "Retrying in 8s [Retry 4/5].\n",
      "Fetching pages: 100%|##########| 323/323 [03:16<00:00,  1.64it/s]\n"
     ]
    },
    {
     "data": {
      "image/png": "[encoded data removed]",
      "text/plain": [
       "<IPython.core.display.Image object>"
      ]
     },
     "metadata": {},
     "output_type": "display_data",
     "jetTransient": {
      "display_id": null
     }
    }
   ],
   "execution_count": 2
  },
  {
   "cell_type": "markdown",
   "metadata": {},
   "source": [
    "We're setting up a simple graph in LangGraph. If you want to learn more about LangGraph, I would highly recommend taking a look at our LangGraph Academy course.\n",
    "\n",
    "You can also pass in metadata or other fields through an optional config"
   ]
  },
  {
   "cell_type": "code",
   "metadata": {
    "ExecuteTime": {
     "end_time": "2025-10-07T22:10:15.312145Z",
     "start_time": "2025-10-07T22:10:08.098101Z"
    }
   },
   "source": [
    "interests = \"I have deep interest in medical imaging\"\n",
    "prev_activities = \"Worked on identifying cancer cells using DL and CNNs\"\n",
    "simple_rag_graph.invoke({\"question\": interests, \"prev_activities\": prev_activities}, config={\"metadata\": {\"foo\": \"bar\"}})"
   ],
   "outputs": [
    {
     "name": "stderr",
     "output_type": "stream",
     "text": [
      "huggingface/tokenizers: The current process just got forked, after parallelism has already been used. Disabling parallelism to avoid deadlocks...\n",
      "To disable this warning, you can either:\n",
      "\t- Avoid using `tokenizers` before the fork if possible\n",
      "\t- Explicitly set the environment variable TOKENIZERS_PARALLELISM=(true | false)\n"
     ]
    },
    {
     "data": {
      "text/plain": [
       "{'question': 'I have deep interest in medical imaging',\n",
       " 'messages': [HumanMessage(content='I have deep interest in medical imaging', additional_kwargs={}, response_metadata={}),\n",
       "  AIMessage(content=\"Based on the context provided, I recommend reaching out to Rajeev Kumar Singh at Shiv Nadar University, who seems to be an excellent match for potential research collaboration. Here's why:\\n\\nAlignment of Research Interests:\\n1. Machine Learning ✓\\n2. Medical Image Computing ✓\\n3. Computer Vision ✓\\n\\nSpecific Evidence of Alignment:\\n- Published multiple papers in medical imaging and deep learning\\n- Specific works include:\\n  - SkiNet: Deep learning framework for skin lesion diagnosis\\n  - COVIDScreen: Explainable deep learning for COVID-19 diagnosis\\n  - DMENet: Diabetic macular edema diagnosis\\n  - CervixNet: Cervical Cancer Diagnosis\\n\\nAdditional Relevance:\\n- Currently an Assistant Professor in Computer Science and Engineering\\n- Has extensive experience in applying deep learning to medical imaging\\n- Published in reputable journals like PLOS ONE and Neural Computing and Applications\\n\\nRecommended Approach:\\n- Highlight your shared interests in medical image computing and machine learning\\n- Reference his specific publications in your email\\n- Express interest in potential research collaboration or guidance\\n\\nThe professor's research profile strongly aligns with your research interests, making him an ideal potential research mentor or collaborator.\", additional_kwargs={}, response_metadata={'id': 'msg_01MXYseMxApqSwbCkNJtdGXP', 'model': 'claude-3-5-haiku-20241022', 'stop_reason': 'end_turn', 'stop_sequence': None, 'usage': {'cache_creation': {'ephemeral_1h_input_tokens': 0, 'ephemeral_5m_input_tokens': 0}, 'cache_creation_input_tokens': 0, 'cache_read_input_tokens': 0, 'input_tokens': 1075, 'output_tokens': 279, 'server_tool_use': None, 'service_tier': 'standard'}, 'model_name': 'claude-3-5-haiku-20241022'}, id='run--53004a3d-4998-4c4a-a4e3-f1c06d87c154-0', usage_metadata={'input_tokens': 1075, 'output_tokens': 279, 'total_tokens': 1354, 'input_token_details': {'cache_read': 0, 'cache_creation': 0, 'ephemeral_5m_input_tokens': 0, 'ephemeral_1h_input_tokens': 0}})],\n",
       " 'documents': [Document(metadata={'id': '7e70f120-099b-4be6-92f1-1f08a796291d', 'source': 'https://snu.edu.in/faculty/nitin-kumar/', 'loc': 'https://snu.edu.in/faculty/nitin-kumar/', 'lastmod': '2025-08-20T06:28:00+00:00', 'changefreq': 'monthly', 'priority': '0.5'}, page_content='Research Interest                                                    \\n\\n\\n\\n\\nMachine Learning\\nMedical Image Computing\\nComputer Vision\\nGraph Representation Learning\\n\\nTo learn more about my work, visit:\\xa0https://nitinnazkani.github.io/nitinnazkani/\\n\\xa0 \\n\\n\\n\\n\\n\\n                                                                National and International Recognition                                                    \\n\\n\\n\\n\\nIn top 10 (0.3%) finalists for best paper award at IEEE International Conference on Image Processing (ICIP) -2017\\nRecipient of travel grants from MICCAI, ICIP, MedImage societies\\n \\n\\n\\n\\n\\n\\n                                                                Academic Achievements'),\n",
       "  Document(metadata={'id': 'ac2b844b-1eb8-409e-b46c-00d012abadbd', 'source': 'https://snu.edu.in/faculty/rajeev-kumar-singh/', 'loc': 'https://snu.edu.in/faculty/rajeev-kumar-singh/', 'lastmod': '2025-08-20T06:22:59+00:00', 'changefreq': 'monthly', 'priority': '0.5'}, page_content='1. Rajeev Kumar Singh, Rohan Gorantla, Sai Giridhar Rao Allada, Pratap Narra SkiNet: A deep learning framework for skin lesion diagnosis with uncertainty estimation and explainability Plos one 17 2022.\\n2. Rajeev Kumar Singh, Rohan Pandey, Rishie Nandhan Babu COVIDScreen: explainable deep learning framework for differential diagnosis of COVID-19 using chest X-rays Neural Computing and Applications 33 2021.\\n3. Rajeev Kumar Singh, Sonia Khetarpaul, Rohan Gorantla, Sai Giridhar Allada SHEG: summarization and headline generation of news articles using deep learning Neural Computing and Applications 33 2021.\\n4. Rajeev Kumar Singh, Rohan Gorantla DMENet: diabetic macular edema diagnosis using hierarchical ensemble of CNNs Plos one 15 2020.\\n5. Gorantla Rohan, Singh Rajeev Kumar, Pandey Rohan, Jain Mayank Cervical Cancer Diagnosis using CervixNet - A Deep Learning Approach Publisher: IEEE 2019.\\n6. Santosh Kumar, Rajeev Kumar Singh, Karmeshu Exact distributions for bit error rate and channel capacity in free-space optical communication IET communications 13 2019.\\n7. Rajeev Kumar Singh, Santosh Kumar, Karmeshu A New Approximation for PDF of K Distribution: Analytical Study of QoS Parameters in Free Space Optical Communication IET communications 2018.\\n8. Rajeev Kumar Singh Exact analytical BER expression in FSO using ?-? distribution proposed as an approximation of gamma-gamma PDF Publisher: IEEE 2018.\\n9. Rajeev Kumar Singh, Santosh Kumar A novel approximation for k distribution: Closed-form ber using dpsk modulation in free-space optical communication IEEE Photonics Journal 9 2017.\\n10. Tarun Kumar, Rajeev Kumar Singh Analysis of compiler optimization techniques by using feature mining technique \"Publisher IEEE\" 2015. \\n\\n\\n\\n\\n\\n\\n\\n\\n\\n\\n\\n\\n\\n\\n\\n\\n\\n\\n\\n\\n\\nHome\\n\\n\\nAbout\\n\\n\\nResearch\\n\\n\\nPrograms\\n\\n\\nAdmissions\\n\\n\\n\\n\\n\\n\\n\\n\\n\\n\\nFaculty\\n\\n\\nSchools and Centers\\n\\n\\nOmbudsperson\\n\\n\\nThe Office of the Registrar\\n\\n\\nNews\\n\\n\\n\\n\\n\\n\\n\\n\\n\\n\\nEvents\\n\\n\\nCareers\\n\\n\\nAlumni'),\n",
       "  Document(metadata={'id': 'b86aced9-db40-44fb-9c97-87094a50fd4b', 'source': 'https://snu.edu.in/faculty/pooja-malik/', 'loc': 'https://snu.edu.in/faculty/pooja-malik/', 'lastmod': '2025-08-20T06:22:59+00:00', 'changefreq': 'monthly', 'priority': '0.5'}, page_content='Work Experience                                                    \\n\\n\\n\\n08/15-Present, Assistant Professor, Department of Computer Science and Engineering, School of Engineering, Shiv Nadar University, Delhi NCR\\n02/13-07/15, Assistant Professor, Noida International University, Greater Noida\\n07/11-01/13, Assistant Professor, Mangalmay Institute of Engineering and Technology, Greater Noida \\n\\n\\n\\n\\n\\n\\n\\n\\n\\n                                                                Journal Publications                                                    \\n\\n\\n\\n\\nGaurav Dubey, Somya Srivastava, Anant Kumar Jayswal, Mala Saraswat, Pooja Singh, Minakshi Memoria, “Fetal Ultrasound Segmentation and Measurements Using Appearance and Shape Prior Based Density Regression with Deep CNN and Robust Ellipse Fitting”, Journal of Imaging Informatics in Medicine, 2024, Springer International Publishing. DOI: https://doi.org/10.1007/s10278-023-00908-8.'),\n",
       "  Document(metadata={'id': '2fd922c6-d321-4ab1-9f3a-271dde9c40b2', 'source': 'https://snu.edu.in/faculty/snehasis_mukherjee/', 'loc': 'https://snu.edu.in/faculty/snehasis_mukherjee/', 'lastmod': '2025-08-20T06:27:57+00:00', 'changefreq': 'monthly', 'priority': '0.5'}, page_content='Research interest                                                    \\n\\n\\n\\nMachine Learning and Computer Vision\\nLink to lab webpage:\\xa0https://sites.google.com/site/snehasisisi/home\\n\\nKnow more: Click here \\n\\n\\n\\n\\n\\n\\n\\n\\n\\n                                                                Journal Publication')],\n",
       " 'prev_activities': 'Worked on identifying cancer cells using DL and CNNs'}"
      ]
     },
     "execution_count": 3,
     "metadata": {},
     "output_type": "execute_result"
    }
   ],
   "execution_count": 3
  },
  {
   "cell_type": "markdown",
   "metadata": {},
   "source": [
    "##### Let's take a look in LangSmith!"
   ]
  },
  {
   "cell_type": "markdown",
   "metadata": {},
   "source": [
    "## Tracing Context Manager"
   ]
  },
  {
   "cell_type": "markdown",
   "metadata": {},
   "source": [
    "In Python, you can use the trace context manager to log traces to LangSmith. This is useful in situations where:\n",
    "\n",
    "You want to log traces for a specific block of code.\n",
    "You want control over the inputs, outputs, and other attributes of the trace.\n",
    "It is not feasible to use a decorator or wrapper.\n",
    "Any or all of the above.\n",
    "The context manager integrates seamlessly with the traceable decorator and wrap_openai wrapper, so you can use them together in the same application.\n",
    "\n",
    "You still need to set your `LANGSMITH_API_KEY` and `LANGSMITH_TRACING`"
   ]
  },
  {
   "cell_type": "code",
   "metadata": {
    "ExecuteTime": {
     "end_time": "2025-10-07T22:10:29.706311Z",
     "start_time": "2025-10-07T22:10:20.524465Z"
    }
   },
   "source": [
    "from langsmith import traceable, trace\n",
    "from openai import OpenAI\n",
    "from anthropic import Anthropic\n",
    "from typing import List\n",
    "import nest_asyncio\n",
    "from utils import get_vector_db_retriever\n",
    "\n",
    "MODEL_PROVIDER = \"anthropic\"\n",
    "MODEL_NAME = \"claude-3-5-haiku-latest\"\n",
    "APP_VERSION = 1.0\n",
    "RAG_SYSTEM_PROMPT = \"\"\"You are an assistant for question-answering tasks. \n",
    "Use the following pieces of retrieved context to answer the latest question in the conversation. \n",
    "If you don't know the answer, just say that you don't know. \n",
    "Use three sentences maximum and keep the answer concise.\n",
    "\"\"\"\n",
    "\n",
    "anthropic_client = Anthropic()\n",
    "nest_asyncio.apply()\n",
    "retriever = get_vector_db_retriever()\n",
    "\n",
    "\"\"\"\n",
    "retrieve_documents\n",
    "- Returns documents fetched from a vectorstore based on the user's question\n",
    "\"\"\"\n",
    "@traceable\n",
    "def retrieve_documents(question: str):\n",
    "    documents = retriever.invoke(question)\n",
    "    return documents\n",
    "\n",
    "\"\"\"\n",
    "generate_response\n",
    "- Calls `call_anthropic` to generate a model response after formatting inputs\n",
    "\"\"\"\n",
    "\n",
    "def generate_response(question: str, documents):\n",
    "    # NOTE: Our documents came in as a list of objects, but we just want to log a string\n",
    "    formatted_docs = \"\\n\\n\".join(doc.page_content for doc in documents)\n",
    "\n",
    "    with trace(\n",
    "        name=\"Generate Response\",\n",
    "        run_type=\"chain\",\n",
    "        inputs={\"question\": question, \"formatted_docs\": formatted_docs},\n",
    "        metadata={\"foo\": \"bar\"},\n",
    "    ) as ls_trace:\n",
    "        messages = [\n",
    "            {\n",
    "                \"role\": \"user\",\n",
    "                \"content\": f\"To the most suitable professor, write a mail for research opportunities. Context: {formatted_docs} \\n\\n Interests: {question}\"\n",
    "            }\n",
    "        ]\n",
    "        response = call_claude(messages, RAG_SYSTEM_PROMPT)\n",
    "        ls_trace.end(outputs={\"output\": response})\n",
    "    return response\n",
    "\n",
    "\"\"\"\n",
    "call_claude\n",
    "- Returns the chat completion output from OpenAI\n",
    "\"\"\"\n",
    "@traceable\n",
    "def call_claude(\n",
    "    messages: List[dict], system: str, model: str = MODEL_NAME, temperature: float = 0.0\n",
    ") -> str:\n",
    "    response = anthropic_client.messages.create(\n",
    "        model=model,\n",
    "        system=system,\n",
    "        messages=messages,\n",
    "        temperature=temperature,\n",
    "        max_tokens=1024,\n",
    "    )\n",
    "    return response\n",
    "\n",
    "\"\"\"\n",
    "langsmith_rag\n",
    "- Calls `retrieve_documents` to fetch documents\n",
    "- Calls `generate_response` to generate a response based on the fetched documents\n",
    "- Returns the model response\n",
    "\"\"\"\n",
    "@traceable\n",
    "def langsmith_rag(question: str):\n",
    "    documents = retrieve_documents(question)\n",
    "    response = generate_response(question, documents)\n",
    "    return response.content[0].text\n"
   ],
   "outputs": [],
   "execution_count": 4
  },
  {
   "cell_type": "code",
   "metadata": {
    "ExecuteTime": {
     "end_time": "2025-10-07T22:10:33.755764Z",
     "start_time": "2025-10-07T22:10:29.713741Z"
    }
   },
   "source": [
    "interests = \"Interest in Natural Language Processing and Machine Translation\"\n",
    "ai_answer = langsmith_rag(interests)\n",
    "print(ai_answer)"
   ],
   "outputs": [
    {
     "name": "stdout",
     "output_type": "stream",
     "text": [
      "Here's a draft email for research opportunities:\n",
      "\n",
      "Subject: Research Collaboration Inquiry in Natural Language Processing and Machine Translation\n",
      "\n",
      "Dear Professor,\n",
      "\n",
      "I am writing to express my strong interest in potential research opportunities in Natural Language Processing, particularly focusing on Machine Translation for Indian languages. Given my background in publishing research on machine translation evaluation metrics and my experience presenting at conferences like ICON 2021, I am eager to explore collaborative research possibilities in your department.\n",
      "\n",
      "Would you be available to discuss potential research projects or assistantships that align with your current work in NLP?\n",
      "\n",
      "Sincerely,\n",
      "[Your Name]\n"
     ]
    }
   ],
   "execution_count": 5
  },
  {
   "cell_type": "markdown",
   "metadata": {},
   "source": [
    "## wrap_openai"
   ]
  },
  {
   "cell_type": "markdown",
   "metadata": {},
   "source": [
    "The wrap_openai/wrapOpenAI methods in Python/TypeScript allow you to wrap your OpenAI client in order to automatically log traces -- no decorator or function wrapping required! The wrapper works seamlessly with the @traceable decorator or traceable function and you can use both in the same application.\n",
    "\n",
    "You still need to set your `LANGSMITH_API_KEY` and `LANGSMITH_TRACING`"
   ]
  },
  {
   "cell_type": "code",
   "metadata": {
    "ExecuteTime": {
     "end_time": "2025-10-07T22:14:49.187130Z",
     "start_time": "2025-10-07T22:14:40.753495Z"
    }
   },
   "source": [
    "from langsmith.wrappers import wrap_anthropic\n",
    "import anthropic\n",
    "from typing import List\n",
    "import nest_asyncio\n",
    "from utils import get_vector_db_retriever\n",
    "\n",
    "MODEL_PROVIDER = \"anthropic\"\n",
    "MODEL_NAME = \"claude-3-5-haiku-latest\"\n",
    "APP_VERSION = 1.0\n",
    "RAG_SYSTEM_PROMPT = \"\"\"You are an assistant for question-answering tasks. \n",
    "Use the following pieces of retrieved context to answer the latest question in the conversation. \n",
    "If you don't know the answer, just say that you don't know. \n",
    "Use three sentences maximum and keep the answer concise.\n",
    "\"\"\"\n",
    "\n",
    "anthropic_client = wrap_anthropic(anthropic.Client())\n",
    "\n",
    "nest_asyncio.apply()\n",
    "retriever = get_vector_db_retriever()\n",
    "\n",
    "@traceable(run_type=\"chain\")\n",
    "def retrieve_documents(question: str):\n",
    "    return retriever.invoke(question)\n",
    "\n",
    "@traceable(run_type=\"chain\")\n",
    "def generate_response(question: str, documents):\n",
    "    formatted_docs = \"\\n\\n\".join(doc.page_content for doc in documents)\n",
    "    messages = [\n",
    "        {\n",
    "            \"role\": \"user\",\n",
    "            \"content\": f\"Context: {formatted_docs} \\n\\n Question: {question}\"\n",
    "        }\n",
    "    ]\n",
    "    return anthropic_client.messages.create(\n",
    "        model=MODEL_NAME,\n",
    "        messages=messages,\n",
    "        temperature=0,\n",
    "        max_tokens=1024,\n",
    "    )\n",
    "\n",
    "@traceable(run_type=\"chain\")\n",
    "def langsmith_rag_with_wrap_openai(question: str):\n",
    "    documents = retrieve_documents(question)\n",
    "    response = generate_response(question, documents)\n",
    "    return response.content[0].text\n"
   ],
   "outputs": [],
   "execution_count": 12
  },
  {
   "cell_type": "code",
   "metadata": {
    "ExecuteTime": {
     "end_time": "2025-10-07T22:14:57.138398Z",
     "start_time": "2025-10-07T22:14:53.213813Z"
    }
   },
   "source": [
    "question = \"How do I trace with wrap_openai?\"\n",
    "ai_answer = langsmith_rag_with_wrap_openai(question)\n",
    "print(ai_answer)"
   ],
   "outputs": [
    {
     "name": "stdout",
     "output_type": "stream",
     "text": [
      "I apologize, but I cannot find any information in the provided context about \"wrap_openai\" or tracing. The context appears to be about a research grant for developing a catalytic membrane for tannery effluent treatment, along with some details about the Shiv Nadar Institution of Eminence and some research publications. \n",
      "\n",
      "If you're looking for information about tracing with wrap_openai, you would need to provide more context or specific details about what you're trying to accomplish. Without additional information, I cannot provide a meaningful answer about tracing with wrap_openai.\n"
     ]
    }
   ],
   "execution_count": 13
  },
  {
   "cell_type": "markdown",
   "metadata": {},
   "source": [
    "The wrapped OpenAI client accepts all the same langsmith_extra parameters as @traceable decorated functions"
   ]
  },
  {
   "cell_type": "code",
   "metadata": {
    "ExecuteTime": {
     "end_time": "2025-10-07T22:16:23.752295Z",
     "start_time": "2025-10-07T22:16:20.918526Z"
    }
   },
   "source": [
    "messages = [\n",
    "    {\n",
    "        \"role\": \"user\",\n",
    "        \"content\": \"What color is the sky?\"\n",
    "    }\n",
    "]\n",
    "\n",
    "anthropic_client.messages.create(\n",
    "    model=MODEL_NAME,\n",
    "    messages=messages,\n",
    "    langsmith_extra={\"metadata\": {\"foo\": \"bar\"}},\n",
    "    max_tokens=1024,\n",
    "    temperature=0\n",
    ")"
   ],
   "outputs": [
    {
     "data": {
      "text/plain": [
       "Message(id='msg_01Qu6zLZZjrwLC2143oovw2N', content=[TextBlock(citations=None, text=\"The sky is typically blue during clear daytime conditions. The blue color is caused by a phenomenon called Rayleigh scattering, where sunlight is scattered by molecules in the Earth's atmosphere. During sunrise and sunset, the sky can appear orange, red, or pink due to the angle of sunlight. At night, the sky appears dark or black.\", type='text')], model='claude-3-5-haiku-20241022', role='assistant', stop_reason='end_turn', stop_sequence=None, type='message', usage=Usage(cache_creation=CacheCreation(ephemeral_1h_input_tokens=0, ephemeral_5m_input_tokens=0), cache_creation_input_tokens=0, cache_read_input_tokens=0, input_tokens=13, output_tokens=77, server_tool_use=None, service_tier='standard'))"
      ]
     },
     "execution_count": 15,
     "metadata": {},
     "output_type": "execute_result"
    }
   ],
   "execution_count": 15
  },
  {
   "cell_type": "markdown",
   "metadata": {
    "jp-MarkdownHeadingCollapsed": true
   },
   "source": [
    "## [Advanced] RunTree"
   ]
  },
  {
   "cell_type": "markdown",
   "metadata": {},
   "source": [
    "Another, more explicit way to log traces to LangSmith is via the RunTree API. This API allows you more control over your tracing - you can manually create runs and children runs to assemble your trace. You still need to set your `LANGSMITH_API_KEY`, but `LANGSMITH_TRACING` is not necessary for this method."
   ]
  },
  {
   "cell_type": "markdown",
   "metadata": {},
   "source": [
    "![AWTT](../../images/alternative_ways_to_trace_4.png)"
   ]
  },
  {
   "cell_type": "code",
   "execution_count": null,
   "metadata": {},
   "outputs": [],
   "source": [
    "import os\n",
    "os.environ[\"OPENAI_API_KEY\"] = \"\"\n",
    "os.environ[\"LANGSMITH_API_KEY\"] = \"\"\n",
    "os.environ[\"LANGSMITH_PROJECT\"] = \"langsmith-academy\""
   ]
  },
  {
   "cell_type": "code",
   "execution_count": null,
   "metadata": {},
   "outputs": [],
   "source": [
    "from dotenv import load_dotenv\n",
    "# I have my env variables defined in a .env file\n",
    "load_dotenv()"
   ]
  },
  {
   "cell_type": "markdown",
   "metadata": {},
   "source": [
    "Let's go ahead and set `LANGSMITH_TRACING` to false, as we are using RunTree to manually create runs in this case."
   ]
  },
  {
   "cell_type": "code",
   "metadata": {
    "ExecuteTime": {
     "end_time": "2025-10-07T22:25:04.057663Z",
     "start_time": "2025-10-07T22:25:04.050161Z"
    }
   },
   "source": [
    "import os\n",
    "os.environ[\"LANGSMITH_TRACING\"] = \"false\"\n",
    "\n",
    "from langsmith import utils\n",
    "utils.tracing_is_enabled() # This should return false"
   ],
   "outputs": [
    {
     "data": {
      "text/plain": [
       "True"
      ]
     },
     "execution_count": 16,
     "metadata": {},
     "output_type": "execute_result"
    }
   ],
   "execution_count": 16
  },
  {
   "cell_type": "markdown",
   "metadata": {},
   "source": [
    "We have rewritten our RAG application, except this time we pass a RunTree argument through our function calls, and create child runs at each layer. This gives our RunTree the same hierarchy that we were automatically able to establish with @traceable"
   ]
  },
  {
   "cell_type": "code",
   "metadata": {
    "ExecuteTime": {
     "end_time": "2025-10-07T22:34:07.895919Z",
     "start_time": "2025-10-07T22:33:58.891947Z"
    }
   },
   "source": [
    "from langsmith import RunTree\n",
    "from openai import OpenAI\n",
    "from anthropic import Anthropic\n",
    "from typing import List\n",
    "import nest_asyncio\n",
    "from utils import get_vector_db_retriever\n",
    "\n",
    "anthropic_client = Anthropic()\n",
    "nest_asyncio.apply()\n",
    "retriever = get_vector_db_retriever()\n",
    "\n",
    "def retrieve_documents(parent_run: RunTree, question: str):\n",
    "    # Create a child run\n",
    "    child_run = parent_run.create_child(\n",
    "        name=\"Retrieve Documents\",\n",
    "        run_type=\"retriever\",\n",
    "        inputs={\"question\": question},\n",
    "    )\n",
    "    documents = retriever.invoke(question)\n",
    "    # Post the output of our child run\n",
    "    child_run.end(outputs={\"documents\": documents})\n",
    "    child_run.post()\n",
    "    return documents\n",
    "\n",
    "def generate_response(parent_run: RunTree, question: str, documents):\n",
    "    formatted_docs = \"\\n\\n\".join(doc.page_content for doc in documents)\n",
    "    rag_system_prompt = \"\"\"You are an assistant for question-answering tasks. \n",
    "    Use the following pieces of retrieved context to answer the latest question in the conversation. \n",
    "    If you don't know the answer, just say that you don't know. \n",
    "    Use three sentences maximum and keep the answer concise.\n",
    "    \"\"\"\n",
    "    # Create a child run\n",
    "    child_run = parent_run.create_child(\n",
    "        name=\"Generate Response\",\n",
    "        run_type=\"chain\",\n",
    "        inputs={\"question\": question, \"documents\": documents},\n",
    "    )\n",
    "    messages = [\n",
    "        {\n",
    "            \"role\": \"user\",\n",
    "            \"content\": f\"Context: {formatted_docs} \\n\\n Question: {question}\"\n",
    "        }\n",
    "    ]\n",
    "    claude_response = call_anthropic(child_run, messages, rag_system_prompt)\n",
    "    # Post the output of our child run\n",
    "    child_run.end(outputs={\"claude_response\": claude_response})\n",
    "    child_run.post()\n",
    "    return claude_response\n",
    "\n",
    "def call_anthropic(\n",
    "    parent_run: RunTree, messages: List[dict], rag_system_prompt: str, model: str = \"claude-3-5-haiku-latest\", temperature: float = 0.0\n",
    ") -> str:\n",
    "    # Create a child run\n",
    "    child_run = parent_run.create_child(\n",
    "        name=\"Claude Call\",\n",
    "        run_type=\"llm\",\n",
    "        inputs={\"messages\": messages},\n",
    "    )\n",
    "    claude_response = anthropic_client.messages.create(\n",
    "        model=model,\n",
    "        messages=messages,\n",
    "        system=rag_system_prompt,\n",
    "        temperature=temperature,\n",
    "        max_tokens=1024\n",
    "    )\n",
    "    # Post the output of our child run\n",
    "    child_run.end(outputs={\"claude_response\": claude_response})\n",
    "    child_run.post()\n",
    "    return claude_response\n",
    "\n",
    "def langsmith_rag(question: str):\n",
    "    # Create a root RunTree\n",
    "    root_run_tree = RunTree(\n",
    "        name=\"Chat Pipeline\",\n",
    "        run_type=\"chain\",\n",
    "        inputs={\"question\": question}\n",
    "    )\n",
    "\n",
    "    # Pass our RunTree into the nested function calls\n",
    "    documents = retrieve_documents(root_run_tree, question)\n",
    "    response = generate_response(root_run_tree, question, documents)\n",
    "    output = response.content[0].text\n",
    "\n",
    "    # Post our final output\n",
    "    root_run_tree.end(outputs={\"generation\": output})\n",
    "    root_run_tree.post()\n",
    "    return output\n",
    "    \n"
   ],
   "outputs": [],
   "execution_count": 24
  },
  {
   "cell_type": "code",
   "metadata": {
    "ExecuteTime": {
     "end_time": "2025-10-07T22:34:10.570819Z",
     "start_time": "2025-10-07T22:34:07.904825Z"
    }
   },
   "source": [
    "question = \"What are the interests of professors in math department here?\"\n",
    "ai_answer = langsmith_rag(question)\n",
    "print(ai_answer)"
   ],
   "outputs": [
    {
     "name": "stdout",
     "output_type": "stream",
     "text": [
      "Based on the context provided, the professors in the mathematics department have expertise in:\n",
      "\n",
      "1. Analysis\n",
      "2. Algebra and Number Theory\n",
      "\n",
      "These are the specific areas of mathematical interest mentioned in the work experience and area of expertise sections. The context shows at least one professor has worked in these domains at the School of Natural Sciences, Shiv Nadar University.\n"
     ]
    }
   ],
   "execution_count": 25
  },
  {
   "metadata": {},
   "cell_type": "code",
   "outputs": [],
   "execution_count": null,
   "source": ""
  }
 ],
 "metadata": {
  "kernelspec": {
   "display_name": "ls-academy",
   "language": "python",
   "name": "python3"
  },
  "language_info": {
   "codemirror_mode": {
    "name": "ipython",
    "version": 3
   },
   "file_extension": ".py",
   "mimetype": "text/x-python",
   "name": "python",
   "nbconvert_exporter": "python",
   "pygments_lexer": "ipython3",
   "version": "3.9.6"
  }
 },
 "nbformat": 4,
 "nbformat_minor": 4
}
