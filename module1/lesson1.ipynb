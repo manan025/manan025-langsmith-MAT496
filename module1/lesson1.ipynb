{
 "cells": [
  {
   "cell_type": "code",
   "id": "initial_id",
   "metadata": {
    "collapsed": true,
    "ExecuteTime": {
     "end_time": "2025-10-05T07:19:03.911895Z",
     "start_time": "2025-10-05T07:19:01.870905Z"
    }
   },
   "source": [
    "from IPython.core.display import Markdown\n",
    "from dotenv import load_dotenv\n",
    "load_dotenv(dotenv_path=\"../../../.env\", override=True)\n",
    "\n",
    "import os\n",
    "from anthropic import Anthropic\n",
    "from langsmith import traceable\n",
    "from typing import List\n",
    "import nest_asyncio\n",
    "from utils import get_vector_db_retriever"
   ],
   "outputs": [
    {
     "name": "stderr",
     "output_type": "stream",
     "text": [
      "USER_AGENT environment variable not set, consider setting it to identify your requests.\n",
      "/Users/manan/PycharmProjects/langsmith-course/.venv/lib/python3.13/site-packages/tqdm/auto.py:21: TqdmWarning: IProgress not found. Please update jupyter and ipywidgets. See https://ipywidgets.readthedocs.io/en/stable/user_install.html\n",
      "  from .autonotebook import tqdm as notebook_tqdm\n"
     ]
    }
   ],
   "execution_count": 1
  },
  {
   "metadata": {
    "ExecuteTime": {
     "end_time": "2025-10-05T07:19:06.493729Z",
     "start_time": "2025-10-05T07:19:06.413486Z"
    }
   },
   "cell_type": "code",
   "source": [
    "%load_ext autoreload\n",
    "%autoreload 2"
   ],
   "id": "e25dc5ab0b3f8c7d",
   "outputs": [],
   "execution_count": 2
  },
  {
   "metadata": {
    "ExecuteTime": {
     "end_time": "2025-10-05T07:21:37.372994Z",
     "start_time": "2025-10-05T07:21:31.278358Z"
    }
   },
   "cell_type": "code",
   "source": [
    "MODEL_PROVIDER = \"claude\"\n",
    "MODEL_NAME = \"claude-3-5-haiku-latest\"\n",
    "APP_VERSION = 1.0\n",
    "RAG_SYSTEM_PROMPT = \"\"\"You are an assistant for making cold emails for students that go to professors.\n",
    "Use the following pieces of retrieved context to generate emails to be sent to the professor.\n",
    "If you don't know what to write in the mail, just say that you don't know.\n",
    "\"\"\"\n",
    "\n",
    "anthropic_client = Anthropic(api_key=os.environ.get(\"ANTHROPIC_API_KEY\"))\n",
    "nest_asyncio.apply()\n",
    "retriever = get_vector_db_retriever()\n",
    "\n",
    "@traceable\n",
    "def retrieve_documents(question: str):\n",
    "    return retriever.invoke(question)   # NOTE: This is a LangChain vector db retriever, so this .invoke() call will be traced automatically\n",
    "\n",
    "@traceable\n",
    "def generate_response(question: str, documents):\n",
    "    formatted_docs = \"\\n\\n\".join(doc.page_content for doc in documents)\n",
    "    messages = [\n",
    "        {\n",
    "            \"role\": \"user\",\n",
    "            \"content\": f\"Context: {formatted_docs} \\n\\n Question: {question}\"\n",
    "        }\n",
    "    ]\n",
    "    return call_claude(messages)\n",
    "\n",
    "@traceable\n",
    "def call_claude(\n",
    "    messages: List[dict], model: str = MODEL_NAME, temperature: float = 0.0\n",
    ") -> str:\n",
    "    return anthropic_client.messages.create(\n",
    "        model=model,\n",
    "        messages=messages,\n",
    "        system=RAG_SYSTEM_PROMPT,\n",
    "        max_tokens=1024,\n",
    "        temperature=temperature,\n",
    "    ).content[0].text\n",
    "\n",
    "@traceable(metadata={\"Model\": \"all-MiniLM-l6-v2\"})\n",
    "def langsmith_rag(question: str):\n",
    "    documents = retrieve_documents(question)\n",
    "    response = generate_response(question, documents)\n",
    "    return response"
   ],
   "id": "aa9a8ac152e65ce6",
   "outputs": [],
   "execution_count": 7
  },
  {
   "metadata": {
    "ExecuteTime": {
     "end_time": "2025-10-05T07:25:11.995747Z",
     "start_time": "2025-10-05T07:25:05.872824Z"
    }
   },
   "cell_type": "code",
   "source": "ans = langsmith_rag(\"interest in Machine learning and Natural language processing\", langsmith_extra={\"metadata\": {\"markdown\": \"True\"}})",
   "id": "be2756bc0abdc418",
   "outputs": [],
   "execution_count": 10
  },
  {
   "metadata": {
    "ExecuteTime": {
     "end_time": "2025-10-05T07:25:12.055772Z",
     "start_time": "2025-10-05T07:25:12.022044Z"
    }
   },
   "cell_type": "code",
   "source": "from IPython.display import Markdown",
   "id": "d3277936d33b15a0",
   "outputs": [],
   "execution_count": 11
  },
  {
   "metadata": {
    "ExecuteTime": {
     "end_time": "2025-10-05T07:25:18.410299Z",
     "start_time": "2025-10-05T07:25:18.381485Z"
    }
   },
   "cell_type": "code",
   "source": "Markdown(ans)",
   "id": "724dc696b3f41f33",
   "outputs": [
    {
     "data": {
      "text/plain": [
       "<IPython.core.display.Markdown object>"
      ],
      "text/markdown": "Based on the context provided, I would recommend drafting an email to Nazil Perveen, who is an Assistant Professor in the Department of Computer Science and Engineering. Machine Learning and Natural Language Processing are typically computer science domains, so she might be the most relevant contact.\n\nHere's a draft email:\n\nSubject: Inquiry about Machine Learning and NLP Research Opportunities\n\nDear Dr. Nazil Perveen,\n\nI hope this email finds you well. I am a student interested in Machine Learning and Natural Language Processing, and I am reaching out to explore potential research opportunities or guidance in these fields within the Department of Computer Science and Engineering.\n\nI am particularly keen to understand:\n- Current research projects in ML and NLP\n- Potential undergraduate/graduate research opportunities\n- Recommended courses or resources in these domains\n\nWould you be available for a brief discussion about these areas of study? I would greatly appreciate any insights you could share.\n\nThank you for your time and consideration.\n\nSincerely,\n[Your Name]\n\nNote: This email template is generic and should be personalized based on your specific background, interests, and any prior research about the professor's work."
     },
     "execution_count": 12,
     "metadata": {},
     "output_type": "execute_result"
    }
   ],
   "execution_count": 12
  },
  {
   "metadata": {},
   "cell_type": "code",
   "outputs": [],
   "execution_count": null,
   "source": "",
   "id": "33c72121fdeb6464"
  }
 ],
 "metadata": {
  "kernelspec": {
   "display_name": "Python 3",
   "language": "python",
   "name": "python3"
  },
  "language_info": {
   "codemirror_mode": {
    "name": "ipython",
    "version": 2
   },
   "file_extension": ".py",
   "mimetype": "text/x-python",
   "name": "python",
   "nbconvert_exporter": "python",
   "pygments_lexer": "ipython2",
   "version": "2.7.6"
  }
 },
 "nbformat": 4,
 "nbformat_minor": 5
}
