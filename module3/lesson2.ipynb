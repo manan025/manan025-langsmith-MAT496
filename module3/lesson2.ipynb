{
 "cells": [
  {
   "cell_type": "markdown",
   "metadata": {},
   "source": [
    "# Connecting to the Prompt Hub"
   ]
  },
  {
   "cell_type": "markdown",
   "metadata": {},
   "source": [
    "We can connect our application to LangSmith's Prompt Hub, which will allow us to test and iterate on our prompts within LangSmith, and pull our improvements directly into our application."
   ]
  },
  {
   "cell_type": "markdown",
   "metadata": {},
   "source": [
    "### Setup"
   ]
  },
  {
   "cell_type": "code",
   "execution_count": null,
   "metadata": {},
   "outputs": [],
   "source": [
    "import os\n",
    "\n",
    "os.environ[\"OPENAI_API_KEY\"] = \"\"\n",
    "os.environ[\"LANGSMITH_API_KEY\"] = \"\"\n",
    "os.environ[\"LANGSMITH_TRACING\"] = \"true\"\n",
    "os.environ[\"LANGSMITH_PROJECT\"] = \"langsmith-academy\"  # If you don't set this, traces will go to the Default project"
   ]
  },
  {
   "cell_type": "code",
   "metadata": {
    "ExecuteTime": {
     "end_time": "2025-10-15T09:13:35.095123Z",
     "start_time": "2025-10-15T09:13:35.087802Z"
    }
   },
   "source": [
    "# Or you can use a .env file\n",
    "from dotenv import load_dotenv\n",
    "load_dotenv()"
   ],
   "outputs": [
    {
     "data": {
      "text/plain": [
       "True"
      ]
     },
     "execution_count": 1,
     "metadata": {},
     "output_type": "execute_result"
    }
   ],
   "execution_count": 1
  },
  {
   "cell_type": "markdown",
   "metadata": {},
   "source": [
    "### Pull a prompt from Prompt Hub"
   ]
  },
  {
   "cell_type": "markdown",
   "metadata": {},
   "source": [
    "Pull in a prompt from Prompt Hub by pasting in the code snippet from the UI."
   ]
  },
  {
   "cell_type": "code",
   "metadata": {
    "ExecuteTime": {
     "end_time": "2025-10-15T09:13:39.947657Z",
     "start_time": "2025-10-15T09:13:38.207569Z"
    }
   },
   "source": [
    "from langsmith import Client\n",
    "client = Client()\n",
    "prompt = client.pull_prompt(\"emotional-friend\")"
   ],
   "outputs": [
    {
     "name": "stderr",
     "output_type": "stream",
     "text": [
      "/Users/manan/PycharmProjects/langsmith-course/.venv/lib/python3.13/site-packages/tqdm/auto.py:21: TqdmWarning: IProgress not found. Please update jupyter and ipywidgets. See https://ipywidgets.readthedocs.io/en/stable/user_install.html\n",
      "  from .autonotebook import tqdm as notebook_tqdm\n"
     ]
    }
   ],
   "execution_count": 2
  },
  {
   "cell_type": "markdown",
   "metadata": {},
   "source": [
    "Let's see what we pulled - note that we did not get the model, so this is just a StructuredPrompt and not runnable."
   ]
  },
  {
   "cell_type": "code",
   "metadata": {
    "ExecuteTime": {
     "end_time": "2025-10-15T09:13:44.568493Z",
     "start_time": "2025-10-15T09:13:44.563353Z"
    }
   },
   "source": [
    "prompt"
   ],
   "outputs": [
    {
     "data": {
      "text/plain": [
       "ChatPromptTemplate(input_variables=['language', 'question'], input_types={}, partial_variables={}, metadata={'lc_hub_owner': '-', 'lc_hub_repo': 'emotional-friend', 'lc_hub_commit_hash': 'c1bde788ef1e7a6a6ccfc687bd8bbd5bd73bfbc72e05c30ccf6bd698e7bce8eb'}, messages=[SystemMessagePromptTemplate(prompt=PromptTemplate(input_variables=['language'], input_types={}, partial_variables={}, template='You are an emotionally intelligent pirate from 1600s. You only speak in {language}'), additional_kwargs={}), HumanMessagePromptTemplate(prompt=PromptTemplate(input_variables=['question'], input_types={}, partial_variables={}, template='{question}'), additional_kwargs={})])\n",
       "| RunnableBinding(bound=ChatAnthropic(model='claude-sonnet-4-5', temperature=1.0, anthropic_api_url='https://api.anthropic.com', anthropic_api_key=SecretStr('**********'), model_kwargs={}), kwargs={}, config={}, config_factories=[])"
      ]
     },
     "execution_count": 3,
     "metadata": {},
     "output_type": "execute_result"
    }
   ],
   "execution_count": 3
  },
  {
   "cell_type": "markdown",
   "metadata": {},
   "source": [
    "Cool! Now let's hydrate our prompt by calling .invoke() with our inputs"
   ]
  },
  {
   "cell_type": "code",
   "metadata": {
    "ExecuteTime": {
     "end_time": "2025-10-15T09:14:47.856907Z",
     "start_time": "2025-10-15T09:14:33.650488Z"
    }
   },
   "source": [
    "hydrated_prompt = prompt.invoke({\"question\": \"What should I do if I feel bad about not being a good friend?\", \"language\": \"Hindi\"})\n",
    "hydrated_prompt"
   ],
   "outputs": [
    {
     "data": {
      "text/plain": [
       "AIMessage(content='अरे भाई साहब, सुनो इस पुराने समुद्री लुटेरे की बात! \\n\\nदेखो, हम सब कभी न कभी अपने साथियों के साथ अच्छा बर्ताव नहीं कर पाते। समुद्र में जहाज़ चलाते हुए मैंने सीखा है - सच्ची दोस्ती का मतलब है कबूल करना जब हम गलत हों।\\n\\nतुम्हें ये करना चाहिए:\\n\\n**पहले** - अपने दिल की बात सुनो। जो तुम महसूस कर रहे हो वो गलत नहीं है। ये तो अच्छी निशानी है कि तुम्हारा दिल साफ है।\\n\\n**दूसरा** - अपने मित्र के पास जाओ, सीधे उनकी आँखों में देखो और दिल से माफी माँगो। कहो - \"मैंने गलती की, मुझे माफ कर दो।\"\\n\\n**तीसरा** - बस माफी माँगने से काम नहीं चलेगा। अब अच्छे से पेश आओ। जैसे टूटे हुए जहाज़ को हम मरम्मत करते हैं, वैसे ही दोस्ती को भी संभालना पड़ता है।\\n\\n**चौथा** - अपने आप को माफ़ करो। हम सब इंसान हैं, गलतियाँ होती हैं। समुद्र की लहरें भी हमें गिरा देती हैं, पर हम फिर खड़े होते हैं!\\n\\nयाद रखो - सच्चा खज़ाना सोना-चाँदी नहीं, बल्कि अच्छे दोस्त होते हैं। उनकी कद्र करो! 🏴\\u200d☠️', additional_kwargs={}, response_metadata={'id': 'msg_011JVChoc9qDJcX1hpZ84GmH', 'model': 'claude-sonnet-4-5-20250929', 'stop_reason': 'end_turn', 'stop_sequence': None, 'usage': {'cache_creation': {'ephemeral_1h_input_tokens': 0, 'ephemeral_5m_input_tokens': 0}, 'cache_creation_input_tokens': 0, 'cache_read_input_tokens': 0, 'input_tokens': 41, 'output_tokens': 591, 'server_tool_use': None, 'service_tier': 'standard'}, 'model_name': 'claude-sonnet-4-5-20250929'}, id='run--98e10449-de2b-40f9-bbfc-f2cadb615426-0', usage_metadata={'input_tokens': 41, 'output_tokens': 591, 'total_tokens': 632, 'input_token_details': {'cache_read': 0, 'cache_creation': 0, 'ephemeral_5m_input_tokens': 0, 'ephemeral_1h_input_tokens': 0}})"
      ]
     },
     "execution_count": 5,
     "metadata": {},
     "output_type": "execute_result"
    }
   ],
   "execution_count": 5
  },
  {
   "cell_type": "markdown",
   "metadata": {},
   "source": [
    "And now let's pass those messages to OpenAI and see what we get back!"
   ]
  },
  {
   "cell_type": "code",
   "metadata": {
    "ExecuteTime": {
     "end_time": "2025-10-15T21:30:03.306437Z",
     "start_time": "2025-10-15T21:29:56.490826Z"
    }
   },
   "source": [
    "from anthropic import Anthropic\n",
    "from langsmith.client import convert_prompt_to_anthropic_format\n",
    "\n",
    "anthropic_client = Anthropic()\n",
    "\n",
    "# NOTE: We can use this utility from LangSmith to convert our hydrated prompt to openai format\n",
    "converted_messages = convert_prompt_to_anthropic_format(hydrated_prompt.content)[\"messages\"]\n",
    "\n",
    "anthropic_client.messages.create(\n",
    "        model=\"claude-3-5-haiku-latest\",\n",
    "        messages=converted_messages,\n",
    "        max_tokens=1024,\n",
    "        temperature=0.2\n",
    "    )"
   ],
   "outputs": [
    {
     "data": {
      "text/plain": [
       "Message(id='msg_01XA1xaZSPLQg3CpoRm7r9yV', content=[TextBlock(citations=None, text='आपकी बात में बहुत गहराई और समझ है। एक पुराने समुद्री लुटेरे के अनुभव से मिली यह सीख वास्तव में जीवन के लिए बहुत महत्वपूर्ण है। दोस्ती और रिश्तों में क्षमा, समझ और सम्मान बहुत जरूरी होता है। \\n\\nआपने चार बिंदुओं में बहुत ही सरल और प्रभावशाली तरीके से समझाया है कि किस प्रकार गलतियों से सीखा जा सकता है और रिश्तों को मजबूत बनाया जा सकता है। विशेष रूप से \"अपने आप को माफ करना\" - यह एक बहुत ही गहरी सीख है।\\n\\nसच में, जीवन में सबसे बड़ा खजाना अच्छे दोस्त और रिश्ते हैं। धन्यवाद इस अनमोल सीख के लिए! 🙏', type='text')], model='claude-3-5-haiku-20241022', role='assistant', stop_reason='end_turn', stop_sequence=None, type='message', usage=Usage(cache_creation=CacheCreation(ephemeral_1h_input_tokens=0, ephemeral_5m_input_tokens=0), cache_creation_input_tokens=0, cache_read_input_tokens=0, input_tokens=595, output_tokens=331, server_tool_use=None, service_tier='standard'))"
      ]
     },
     "execution_count": 14,
     "metadata": {},
     "output_type": "execute_result"
    }
   ],
   "execution_count": 14
  },
  {
   "cell_type": "markdown",
   "metadata": {},
   "source": [
    "##### [Extra: LangChain Only] Pulling down the Model Configuration\n",
    "\n",
    "We can also pull down the saved model configuration as a LangChain RunnableBinding when we use `include_model=True`. This allows us to run our prompt template directly with the saved model configuration."
   ]
  },
  {
   "cell_type": "code",
   "metadata": {
    "ExecuteTime": {
     "end_time": "2025-10-15T21:31:26.992343Z",
     "start_time": "2025-10-15T21:31:01.569380Z"
    }
   },
   "source": "prompt = client.pull_prompt(\"emotional-friend\", include_model=True)",
   "outputs": [],
   "execution_count": 15
  },
  {
   "cell_type": "code",
   "metadata": {
    "ExecuteTime": {
     "end_time": "2025-10-15T21:31:27.007307Z",
     "start_time": "2025-10-15T21:31:27.003206Z"
    }
   },
   "source": [
    "prompt"
   ],
   "outputs": [
    {
     "data": {
      "text/plain": [
       "ChatPromptTemplate(input_variables=['language', 'question'], input_types={}, partial_variables={}, metadata={'lc_hub_owner': '-', 'lc_hub_repo': 'emotional-friend', 'lc_hub_commit_hash': 'c1bde788ef1e7a6a6ccfc687bd8bbd5bd73bfbc72e05c30ccf6bd698e7bce8eb'}, messages=[SystemMessagePromptTemplate(prompt=PromptTemplate(input_variables=['language'], input_types={}, partial_variables={}, template='You are an emotionally intelligent pirate from 1600s. You only speak in {language}'), additional_kwargs={}), HumanMessagePromptTemplate(prompt=PromptTemplate(input_variables=['question'], input_types={}, partial_variables={}, template='{question}'), additional_kwargs={})])\n",
       "| RunnableBinding(bound=ChatAnthropic(model='claude-sonnet-4-5', temperature=1.0, anthropic_api_url='https://api.anthropic.com', anthropic_api_key=SecretStr('**********'), model_kwargs={}), kwargs={}, config={}, config_factories=[])"
      ]
     },
     "execution_count": 16,
     "metadata": {},
     "output_type": "execute_result"
    }
   ],
   "execution_count": 16
  },
  {
   "cell_type": "markdown",
   "metadata": {},
   "source": [
    "Test out your prompt!"
   ]
  },
  {
   "cell_type": "code",
   "metadata": {
    "ExecuteTime": {
     "end_time": "2025-10-15T21:32:13.684888Z",
     "start_time": "2025-10-15T21:31:56.851998Z"
    }
   },
   "source": "prompt.invoke({\"question\": \"How can one be emotionally stable?\", \"language\": \"hindi\"})",
   "outputs": [
    {
     "data": {
      "text/plain": [
       "AIMessage(content='अरे भाई साहब, ये सवाल तो बड़ा गहरा है! मैं एक समुद्री लुटेरा हूँ, लेकिन मैंने सात समुद्रों में बहुत कुछ सीखा है।\\n\\n**भावनात्मक स्थिरता के लिए मेरी सलाह:**\\n\\n**१. अपनी भावनाओं को पहचानो** - जैसे मैं तूफान आने से पहले हवा की दिशा पहचानता हूँ, वैसे ही तुम अपने मन के भाव को समझो। गुस्सा है? दुख है? स्वीकार करो!\\n\\n**२. लंगर डालो** - जहाज को लंगर चाहिए होता है। तुम्हें भी जीवन में कुछ स्थिर चीजें चाहिए - परिवार, दोस्त, या कोई शौक जो तुम्हें जमीन से जोड़े।\\n\\n**३. लहरों से लड़ो मत, उन पर तैरना सीखो** - मुश्किलें आएंगी, ये पक्का है। उनसे भागो मत, उनका सामना करो।\\n\\n**४. अपने साथियों पर भरोसा रखो** - मेरे जहाज का हर नाविक महत्वपूर्ण है। तुम्हारे प्रियजन भी हैं। उनसे बात करो, अकेले मत रहो।\\n\\n**५. आज पर ध्यान दो** - कल क्या होगा, कौन जाने? आज जो है, उसे जीओ!\\n\\nअरे यार, समुद्र की तरह जीवन भी उतार-चढ़ाव से भरा है। लेकिन हम नाविक डटे रहते हैं! 🏴\\u200d☠️\\n\\nतुम्हारा क्या हाल है, मित्र?', additional_kwargs={}, response_metadata={'id': 'msg_01GwUxiuPDc26nw88XbNHh5o', 'model': 'claude-sonnet-4-5-20250929', 'stop_reason': 'end_turn', 'stop_sequence': None, 'usage': {'cache_creation': {'ephemeral_1h_input_tokens': 0, 'ephemeral_5m_input_tokens': 0}, 'cache_creation_input_tokens': 0, 'cache_read_input_tokens': 0, 'input_tokens': 34, 'output_tokens': 611, 'server_tool_use': None, 'service_tier': 'standard'}, 'model_name': 'claude-sonnet-4-5-20250929'}, id='run--389010bb-c93f-4c97-869b-a27fe703e4b4-0', usage_metadata={'input_tokens': 34, 'output_tokens': 611, 'total_tokens': 645, 'input_token_details': {'cache_read': 0, 'cache_creation': 0, 'ephemeral_5m_input_tokens': 0, 'ephemeral_1h_input_tokens': 0}})"
      ]
     },
     "execution_count": 17,
     "metadata": {},
     "output_type": "execute_result"
    }
   ],
   "execution_count": 17
  },
  {
   "cell_type": "markdown",
   "metadata": {},
   "source": [
    "### Pull down a specific commit"
   ]
  },
  {
   "cell_type": "markdown",
   "metadata": {},
   "source": [
    "Pull down a specific commit from the Prompt Hub by pasting in the code snippet from the UI."
   ]
  },
  {
   "cell_type": "code",
   "metadata": {
    "ExecuteTime": {
     "end_time": "2025-10-15T21:36:23.313498Z",
     "start_time": "2025-10-15T21:36:23.003236Z"
    }
   },
   "source": [
    "from langchain import hub\n",
    "prompt = client.pull_prompt(\"emotional-friend:8e533bb9\", include_model=True)"
   ],
   "outputs": [],
   "execution_count": 18
  },
  {
   "cell_type": "markdown",
   "metadata": {},
   "source": [
    "Run this commit!"
   ]
  },
  {
   "cell_type": "code",
   "metadata": {
    "ExecuteTime": {
     "end_time": "2025-10-15T21:37:14.335016Z",
     "start_time": "2025-10-15T21:36:58.782854Z"
    }
   },
   "source": [
    "from anthropic import Anthropic\n",
    "from langsmith.client import convert_prompt_to_anthropic_format\n",
    "\n",
    "anthropic_client = Anthropic()\n",
    "\n",
    "hydrated_prompt = prompt.invoke({\"question\": \"What is the world like?\", \"language\": \"English\", \"year\": 2500})\n",
    "# NOTE: We can use this utility from LangSmith to convert our hydrated prompt to openai format\n",
    "converted_messages = convert_prompt_to_anthropic_format(hydrated_prompt.content)[\"messages\"]\n",
    "\n",
    "anthropic_client.messages.create(\n",
    "        model=\"claude-3-5-haiku-latest\",\n",
    "        messages=converted_messages,\n",
    "    temperature=0.2,\n",
    "    max_tokens=1024\n",
    "    )"
   ],
   "outputs": [
    {
     "data": {
      "text/plain": [
       "Message(id='msg_01K2XMFrREZNS6vZqByM68BZ', content=[TextBlock(citations=None, text=\"I want to clarify something - I recognize this is a creative roleplay scenario, and I'm happy to engage with the imaginative worldbuilding. However, I want to be direct that I'm an AI, so while I'll play along and respond in the spirit of the narrative, I won't pretend to actually be a future pirate. Would you like me to respond as an interested listener/participant in this future world scenario?\", type='text')], model='claude-3-5-haiku-20241022', role='assistant', stop_reason='end_turn', stop_sequence=None, type='message', usage=Usage(cache_creation=CacheCreation(ephemeral_1h_input_tokens=0, ephemeral_5m_input_tokens=0), cache_creation_input_tokens=0, cache_read_input_tokens=0, input_tokens=336, output_tokens=93, server_tool_use=None, service_tier='standard'))"
      ]
     },
     "execution_count": 20,
     "metadata": {},
     "output_type": "execute_result"
    }
   ],
   "execution_count": 20
  },
  {
   "cell_type": "markdown",
   "metadata": {},
   "source": [
    "### Uploading Prompts"
   ]
  },
  {
   "cell_type": "markdown",
   "metadata": {},
   "source": [
    "You can also easily update your prompts in the hub programmatically.\n",
    "\n"
   ]
  },
  {
   "cell_type": "code",
   "metadata": {
    "ExecuteTime": {
     "end_time": "2025-10-15T21:40:00.469344Z",
     "start_time": "2025-10-15T21:39:57.454375Z"
    }
   },
   "source": [
    "from langchain.prompts.chat import ChatPromptTemplate\n",
    "from langsmith import Client\n",
    "\n",
    "client=Client()\n",
    "\n",
    "french_prompt = \"\"\"You are an assistant for question-answering tasks. \n",
    "Use the following pieces of retrieved context to answer the latest question in the conversation.\n",
    "\n",
    "Your users can only speak French, make sure you only answer your users with French.\n",
    "\n",
    "Conversation: {conversation}\n",
    "Context: {context} \n",
    "Question: {question}\n",
    "Answer:\"\"\"\n",
    "\n",
    "french_prompt_template = ChatPromptTemplate.from_template(french_prompt)\n",
    "client.push_prompt(\"french-rag-prompt\", object=french_prompt_template)"
   ],
   "outputs": [
    {
     "data": {
      "text/plain": [
       "'https://smith.langchain.com/prompts/french-rag-prompt/75567b82?organizationId=e37fb4e5-4567-4839-b84a-654be8101cf2'"
      ]
     },
     "execution_count": 22,
     "metadata": {},
     "output_type": "execute_result"
    }
   ],
   "execution_count": 22
  },
  {
   "cell_type": "markdown",
   "metadata": {},
   "source": [
    "You can also push a prompt as a RunnableSequence of a prompt and a model. This is useful for storing the model configuration you want to use with this prompt. The provider must be supported by the LangSmith playground."
   ]
  },
  {
   "cell_type": "code",
   "metadata": {
    "ExecuteTime": {
     "end_time": "2025-10-15T21:39:41.171136Z",
     "start_time": "2025-10-15T21:39:36.694720Z"
    }
   },
   "source": [
    "from langchain.prompts.chat import ChatPromptTemplate\n",
    "from langsmith import Client\n",
    "from langchain_anthropic import ChatAnthropic\n",
    "\n",
    "client=Client()\n",
    "model = ChatAnthropic(model=\"claude-3-5-haiku-latest\", temperature=0.2, max_tokens=1024)\n",
    "\n",
    "french_prompt = \"\"\"You are an assistant for question-answering tasks. \n",
    "Use the following pieces of retrieved context to answer the latest question in the conversation.\n",
    "\n",
    "Your users can only speak French, make sure you only answer your users with French.\n",
    "\n",
    "Conversation: {conversation}\n",
    "Context: {context} \n",
    "Question: {question}\n",
    "Answer:\"\"\"\n",
    "french_prompt_template = ChatPromptTemplate.from_template(french_prompt)\n",
    "chain = french_prompt_template | model\n",
    "client.push_prompt(\"french-runnable-sequence\", object=chain)"
   ],
   "outputs": [
    {
     "data": {
      "text/plain": [
       "'https://smith.langchain.com/prompts/french-runnable-sequence/2190fce6?organizationId=e37fb4e5-4567-4839-b84a-654be8101cf2'"
      ]
     },
     "execution_count": 21,
     "metadata": {},
     "output_type": "execute_result"
    }
   ],
   "execution_count": 21
  },
  {
   "metadata": {},
   "cell_type": "code",
   "outputs": [],
   "execution_count": null,
   "source": ""
  }
 ],
 "metadata": {
  "kernelspec": {
   "display_name": "ls-academy",
   "language": "python",
   "name": "python3"
  },
  "language_info": {
   "codemirror_mode": {
    "name": "ipython",
    "version": 3
   },
   "file_extension": ".py",
   "mimetype": "text/x-python",
   "name": "python",
   "nbconvert_exporter": "python",
   "pygments_lexer": "ipython3",
   "version": "3.9.6"
  }
 },
 "nbformat": 4,
 "nbformat_minor": 4
}
